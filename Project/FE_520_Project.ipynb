{
 "cells": [
  {
   "cell_type": "code",
   "execution_count": 4,
   "metadata": {
    "id": "8GCZj5NtLbb5"
   },
   "outputs": [],
   "source": [
    "import numpy as np\n",
    "import pandas as pd   \n",
    "import matplotlib.pyplot as plt\n",
    "import seaborn as sns\n",
    "#from imblearn.over_sampling import SMOTE\n",
    "import itertools\n",
    "\n",
    "from sklearn.model_selection import train_test_split\n",
    "from sklearn.metrics import accuracy_score, confusion_matrix\n",
    "from sklearn.linear_model import LogisticRegression \n",
    "from sklearn.tree import DecisionTreeClassifier\n",
    "\n",
    "from xgboost import XGBClassifier\n",
    "from sklearn import svm\n",
    "from sklearn.ensemble import RandomForestClassifier"
   ]
  },
  {
   "cell_type": "code",
   "execution_count": 5,
   "metadata": {
    "id": "xFPQWLA5M4y3"
   },
   "outputs": [],
   "source": [
    "df1 = pd.read_csv('application_record.csv')\n",
    "df2 = pd.read_csv('credit_record.csv')"
   ]
  },
  {
   "cell_type": "code",
   "execution_count": 6,
   "metadata": {
    "colab": {
     "base_uri": "https://localhost:8080/",
     "height": 275
    },
    "id": "C3MY2jnSNEe7",
    "outputId": "a21c5e2c-f2c6-40ce-eb26-d141ff7f48e0"
   },
   "outputs": [
    {
     "data": {
      "text/html": [
       "<div>\n",
       "<style scoped>\n",
       "    .dataframe tbody tr th:only-of-type {\n",
       "        vertical-align: middle;\n",
       "    }\n",
       "\n",
       "    .dataframe tbody tr th {\n",
       "        vertical-align: top;\n",
       "    }\n",
       "\n",
       "    .dataframe thead th {\n",
       "        text-align: right;\n",
       "    }\n",
       "</style>\n",
       "<table border=\"1\" class=\"dataframe\">\n",
       "  <thead>\n",
       "    <tr style=\"text-align: right;\">\n",
       "      <th></th>\n",
       "      <th>ID</th>\n",
       "      <th>CODE_GENDER</th>\n",
       "      <th>FLAG_OWN_CAR</th>\n",
       "      <th>FLAG_OWN_REALTY</th>\n",
       "      <th>CNT_CHILDREN</th>\n",
       "      <th>AMT_INCOME_TOTAL</th>\n",
       "      <th>NAME_INCOME_TYPE</th>\n",
       "      <th>NAME_EDUCATION_TYPE</th>\n",
       "      <th>NAME_FAMILY_STATUS</th>\n",
       "      <th>NAME_HOUSING_TYPE</th>\n",
       "      <th>DAYS_BIRTH</th>\n",
       "      <th>DAYS_EMPLOYED</th>\n",
       "      <th>FLAG_MOBIL</th>\n",
       "      <th>FLAG_WORK_PHONE</th>\n",
       "      <th>FLAG_PHONE</th>\n",
       "      <th>FLAG_EMAIL</th>\n",
       "      <th>OCCUPATION_TYPE</th>\n",
       "      <th>CNT_FAM_MEMBERS</th>\n",
       "    </tr>\n",
       "  </thead>\n",
       "  <tbody>\n",
       "    <tr>\n",
       "      <th>0</th>\n",
       "      <td>5008804</td>\n",
       "      <td>M</td>\n",
       "      <td>Y</td>\n",
       "      <td>Y</td>\n",
       "      <td>0</td>\n",
       "      <td>427500.0</td>\n",
       "      <td>Working</td>\n",
       "      <td>Higher education</td>\n",
       "      <td>Civil marriage</td>\n",
       "      <td>Rented apartment</td>\n",
       "      <td>-12005</td>\n",
       "      <td>-4542</td>\n",
       "      <td>1</td>\n",
       "      <td>1</td>\n",
       "      <td>0</td>\n",
       "      <td>0</td>\n",
       "      <td>NaN</td>\n",
       "      <td>2.0</td>\n",
       "    </tr>\n",
       "    <tr>\n",
       "      <th>1</th>\n",
       "      <td>5008805</td>\n",
       "      <td>M</td>\n",
       "      <td>Y</td>\n",
       "      <td>Y</td>\n",
       "      <td>0</td>\n",
       "      <td>427500.0</td>\n",
       "      <td>Working</td>\n",
       "      <td>Higher education</td>\n",
       "      <td>Civil marriage</td>\n",
       "      <td>Rented apartment</td>\n",
       "      <td>-12005</td>\n",
       "      <td>-4542</td>\n",
       "      <td>1</td>\n",
       "      <td>1</td>\n",
       "      <td>0</td>\n",
       "      <td>0</td>\n",
       "      <td>NaN</td>\n",
       "      <td>2.0</td>\n",
       "    </tr>\n",
       "    <tr>\n",
       "      <th>2</th>\n",
       "      <td>5008806</td>\n",
       "      <td>M</td>\n",
       "      <td>Y</td>\n",
       "      <td>Y</td>\n",
       "      <td>0</td>\n",
       "      <td>112500.0</td>\n",
       "      <td>Working</td>\n",
       "      <td>Secondary / secondary special</td>\n",
       "      <td>Married</td>\n",
       "      <td>House / apartment</td>\n",
       "      <td>-21474</td>\n",
       "      <td>-1134</td>\n",
       "      <td>1</td>\n",
       "      <td>0</td>\n",
       "      <td>0</td>\n",
       "      <td>0</td>\n",
       "      <td>Security staff</td>\n",
       "      <td>2.0</td>\n",
       "    </tr>\n",
       "    <tr>\n",
       "      <th>3</th>\n",
       "      <td>5008808</td>\n",
       "      <td>F</td>\n",
       "      <td>N</td>\n",
       "      <td>Y</td>\n",
       "      <td>0</td>\n",
       "      <td>270000.0</td>\n",
       "      <td>Commercial associate</td>\n",
       "      <td>Secondary / secondary special</td>\n",
       "      <td>Single / not married</td>\n",
       "      <td>House / apartment</td>\n",
       "      <td>-19110</td>\n",
       "      <td>-3051</td>\n",
       "      <td>1</td>\n",
       "      <td>0</td>\n",
       "      <td>1</td>\n",
       "      <td>1</td>\n",
       "      <td>Sales staff</td>\n",
       "      <td>1.0</td>\n",
       "    </tr>\n",
       "    <tr>\n",
       "      <th>4</th>\n",
       "      <td>5008809</td>\n",
       "      <td>F</td>\n",
       "      <td>N</td>\n",
       "      <td>Y</td>\n",
       "      <td>0</td>\n",
       "      <td>270000.0</td>\n",
       "      <td>Commercial associate</td>\n",
       "      <td>Secondary / secondary special</td>\n",
       "      <td>Single / not married</td>\n",
       "      <td>House / apartment</td>\n",
       "      <td>-19110</td>\n",
       "      <td>-3051</td>\n",
       "      <td>1</td>\n",
       "      <td>0</td>\n",
       "      <td>1</td>\n",
       "      <td>1</td>\n",
       "      <td>Sales staff</td>\n",
       "      <td>1.0</td>\n",
       "    </tr>\n",
       "  </tbody>\n",
       "</table>\n",
       "</div>"
      ],
      "text/plain": [
       "        ID CODE_GENDER FLAG_OWN_CAR FLAG_OWN_REALTY  CNT_CHILDREN  \\\n",
       "0  5008804           M            Y               Y             0   \n",
       "1  5008805           M            Y               Y             0   \n",
       "2  5008806           M            Y               Y             0   \n",
       "3  5008808           F            N               Y             0   \n",
       "4  5008809           F            N               Y             0   \n",
       "\n",
       "   AMT_INCOME_TOTAL      NAME_INCOME_TYPE            NAME_EDUCATION_TYPE  \\\n",
       "0          427500.0               Working               Higher education   \n",
       "1          427500.0               Working               Higher education   \n",
       "2          112500.0               Working  Secondary / secondary special   \n",
       "3          270000.0  Commercial associate  Secondary / secondary special   \n",
       "4          270000.0  Commercial associate  Secondary / secondary special   \n",
       "\n",
       "     NAME_FAMILY_STATUS  NAME_HOUSING_TYPE  DAYS_BIRTH  DAYS_EMPLOYED  \\\n",
       "0        Civil marriage   Rented apartment      -12005          -4542   \n",
       "1        Civil marriage   Rented apartment      -12005          -4542   \n",
       "2               Married  House / apartment      -21474          -1134   \n",
       "3  Single / not married  House / apartment      -19110          -3051   \n",
       "4  Single / not married  House / apartment      -19110          -3051   \n",
       "\n",
       "   FLAG_MOBIL  FLAG_WORK_PHONE  FLAG_PHONE  FLAG_EMAIL OCCUPATION_TYPE  \\\n",
       "0           1                1           0           0             NaN   \n",
       "1           1                1           0           0             NaN   \n",
       "2           1                0           0           0  Security staff   \n",
       "3           1                0           1           1     Sales staff   \n",
       "4           1                0           1           1     Sales staff   \n",
       "\n",
       "   CNT_FAM_MEMBERS  \n",
       "0              2.0  \n",
       "1              2.0  \n",
       "2              2.0  \n",
       "3              1.0  \n",
       "4              1.0  "
      ]
     },
     "execution_count": 6,
     "metadata": {},
     "output_type": "execute_result"
    }
   ],
   "source": [
    "df1.head()"
   ]
  },
  {
   "cell_type": "code",
   "execution_count": 7,
   "metadata": {
    "colab": {
     "base_uri": "https://localhost:8080/",
     "height": 204
    },
    "id": "1DYJHQWbNd3d",
    "outputId": "7e58e92b-cc72-4363-dd57-af2343216cc2"
   },
   "outputs": [
    {
     "data": {
      "text/html": [
       "<div>\n",
       "<style scoped>\n",
       "    .dataframe tbody tr th:only-of-type {\n",
       "        vertical-align: middle;\n",
       "    }\n",
       "\n",
       "    .dataframe tbody tr th {\n",
       "        vertical-align: top;\n",
       "    }\n",
       "\n",
       "    .dataframe thead th {\n",
       "        text-align: right;\n",
       "    }\n",
       "</style>\n",
       "<table border=\"1\" class=\"dataframe\">\n",
       "  <thead>\n",
       "    <tr style=\"text-align: right;\">\n",
       "      <th></th>\n",
       "      <th>ID</th>\n",
       "      <th>MONTHS_BALANCE</th>\n",
       "      <th>STATUS</th>\n",
       "    </tr>\n",
       "  </thead>\n",
       "  <tbody>\n",
       "    <tr>\n",
       "      <th>0</th>\n",
       "      <td>5001711</td>\n",
       "      <td>0</td>\n",
       "      <td>X</td>\n",
       "    </tr>\n",
       "    <tr>\n",
       "      <th>1</th>\n",
       "      <td>5001711</td>\n",
       "      <td>-1</td>\n",
       "      <td>0</td>\n",
       "    </tr>\n",
       "    <tr>\n",
       "      <th>2</th>\n",
       "      <td>5001711</td>\n",
       "      <td>-2</td>\n",
       "      <td>0</td>\n",
       "    </tr>\n",
       "    <tr>\n",
       "      <th>3</th>\n",
       "      <td>5001711</td>\n",
       "      <td>-3</td>\n",
       "      <td>0</td>\n",
       "    </tr>\n",
       "    <tr>\n",
       "      <th>4</th>\n",
       "      <td>5001712</td>\n",
       "      <td>0</td>\n",
       "      <td>C</td>\n",
       "    </tr>\n",
       "  </tbody>\n",
       "</table>\n",
       "</div>"
      ],
      "text/plain": [
       "        ID  MONTHS_BALANCE STATUS\n",
       "0  5001711               0      X\n",
       "1  5001711              -1      0\n",
       "2  5001711              -2      0\n",
       "3  5001711              -3      0\n",
       "4  5001712               0      C"
      ]
     },
     "execution_count": 7,
     "metadata": {},
     "output_type": "execute_result"
    }
   ],
   "source": [
    "df2.head()"
   ]
  },
  {
   "cell_type": "code",
   "execution_count": 8,
   "metadata": {
    "colab": {
     "base_uri": "https://localhost:8080/",
     "height": 224
    },
    "id": "KJxrltKJNfba",
    "outputId": "fd51f388-2788-4154-94f9-2f35b993871a"
   },
   "outputs": [
    {
     "data": {
      "text/html": [
       "<div>\n",
       "<style scoped>\n",
       "    .dataframe tbody tr th:only-of-type {\n",
       "        vertical-align: middle;\n",
       "    }\n",
       "\n",
       "    .dataframe tbody tr th {\n",
       "        vertical-align: top;\n",
       "    }\n",
       "\n",
       "    .dataframe thead th {\n",
       "        text-align: right;\n",
       "    }\n",
       "</style>\n",
       "<table border=\"1\" class=\"dataframe\">\n",
       "  <thead>\n",
       "    <tr style=\"text-align: right;\">\n",
       "      <th></th>\n",
       "      <th>ID</th>\n",
       "      <th>CODE_GENDER</th>\n",
       "      <th>FLAG_OWN_CAR</th>\n",
       "      <th>FLAG_OWN_REALTY</th>\n",
       "      <th>CNT_CHILDREN</th>\n",
       "      <th>AMT_INCOME_TOTAL</th>\n",
       "      <th>NAME_INCOME_TYPE</th>\n",
       "      <th>NAME_EDUCATION_TYPE</th>\n",
       "      <th>NAME_FAMILY_STATUS</th>\n",
       "      <th>NAME_HOUSING_TYPE</th>\n",
       "      <th>DAYS_BIRTH</th>\n",
       "      <th>DAYS_EMPLOYED</th>\n",
       "      <th>FLAG_MOBIL</th>\n",
       "      <th>FLAG_WORK_PHONE</th>\n",
       "      <th>FLAG_PHONE</th>\n",
       "      <th>FLAG_EMAIL</th>\n",
       "      <th>OCCUPATION_TYPE</th>\n",
       "      <th>CNT_FAM_MEMBERS</th>\n",
       "      <th>MONTHS_BALANCE</th>\n",
       "      <th>STATUS</th>\n",
       "    </tr>\n",
       "  </thead>\n",
       "  <tbody>\n",
       "    <tr>\n",
       "      <th>0</th>\n",
       "      <td>5008804</td>\n",
       "      <td>M</td>\n",
       "      <td>Y</td>\n",
       "      <td>Y</td>\n",
       "      <td>0</td>\n",
       "      <td>427500.0</td>\n",
       "      <td>Working</td>\n",
       "      <td>Higher education</td>\n",
       "      <td>Civil marriage</td>\n",
       "      <td>Rented apartment</td>\n",
       "      <td>-12005</td>\n",
       "      <td>-4542</td>\n",
       "      <td>1</td>\n",
       "      <td>1</td>\n",
       "      <td>0</td>\n",
       "      <td>0</td>\n",
       "      <td>NaN</td>\n",
       "      <td>2.0</td>\n",
       "      <td>0.0</td>\n",
       "      <td>C</td>\n",
       "    </tr>\n",
       "    <tr>\n",
       "      <th>1</th>\n",
       "      <td>5008804</td>\n",
       "      <td>M</td>\n",
       "      <td>Y</td>\n",
       "      <td>Y</td>\n",
       "      <td>0</td>\n",
       "      <td>427500.0</td>\n",
       "      <td>Working</td>\n",
       "      <td>Higher education</td>\n",
       "      <td>Civil marriage</td>\n",
       "      <td>Rented apartment</td>\n",
       "      <td>-12005</td>\n",
       "      <td>-4542</td>\n",
       "      <td>1</td>\n",
       "      <td>1</td>\n",
       "      <td>0</td>\n",
       "      <td>0</td>\n",
       "      <td>NaN</td>\n",
       "      <td>2.0</td>\n",
       "      <td>-1.0</td>\n",
       "      <td>C</td>\n",
       "    </tr>\n",
       "    <tr>\n",
       "      <th>2</th>\n",
       "      <td>5008804</td>\n",
       "      <td>M</td>\n",
       "      <td>Y</td>\n",
       "      <td>Y</td>\n",
       "      <td>0</td>\n",
       "      <td>427500.0</td>\n",
       "      <td>Working</td>\n",
       "      <td>Higher education</td>\n",
       "      <td>Civil marriage</td>\n",
       "      <td>Rented apartment</td>\n",
       "      <td>-12005</td>\n",
       "      <td>-4542</td>\n",
       "      <td>1</td>\n",
       "      <td>1</td>\n",
       "      <td>0</td>\n",
       "      <td>0</td>\n",
       "      <td>NaN</td>\n",
       "      <td>2.0</td>\n",
       "      <td>-2.0</td>\n",
       "      <td>C</td>\n",
       "    </tr>\n",
       "    <tr>\n",
       "      <th>3</th>\n",
       "      <td>5008804</td>\n",
       "      <td>M</td>\n",
       "      <td>Y</td>\n",
       "      <td>Y</td>\n",
       "      <td>0</td>\n",
       "      <td>427500.0</td>\n",
       "      <td>Working</td>\n",
       "      <td>Higher education</td>\n",
       "      <td>Civil marriage</td>\n",
       "      <td>Rented apartment</td>\n",
       "      <td>-12005</td>\n",
       "      <td>-4542</td>\n",
       "      <td>1</td>\n",
       "      <td>1</td>\n",
       "      <td>0</td>\n",
       "      <td>0</td>\n",
       "      <td>NaN</td>\n",
       "      <td>2.0</td>\n",
       "      <td>-3.0</td>\n",
       "      <td>C</td>\n",
       "    </tr>\n",
       "    <tr>\n",
       "      <th>4</th>\n",
       "      <td>5008804</td>\n",
       "      <td>M</td>\n",
       "      <td>Y</td>\n",
       "      <td>Y</td>\n",
       "      <td>0</td>\n",
       "      <td>427500.0</td>\n",
       "      <td>Working</td>\n",
       "      <td>Higher education</td>\n",
       "      <td>Civil marriage</td>\n",
       "      <td>Rented apartment</td>\n",
       "      <td>-12005</td>\n",
       "      <td>-4542</td>\n",
       "      <td>1</td>\n",
       "      <td>1</td>\n",
       "      <td>0</td>\n",
       "      <td>0</td>\n",
       "      <td>NaN</td>\n",
       "      <td>2.0</td>\n",
       "      <td>-4.0</td>\n",
       "      <td>C</td>\n",
       "    </tr>\n",
       "  </tbody>\n",
       "</table>\n",
       "</div>"
      ],
      "text/plain": [
       "        ID CODE_GENDER FLAG_OWN_CAR FLAG_OWN_REALTY  CNT_CHILDREN  \\\n",
       "0  5008804           M            Y               Y             0   \n",
       "1  5008804           M            Y               Y             0   \n",
       "2  5008804           M            Y               Y             0   \n",
       "3  5008804           M            Y               Y             0   \n",
       "4  5008804           M            Y               Y             0   \n",
       "\n",
       "   AMT_INCOME_TOTAL NAME_INCOME_TYPE NAME_EDUCATION_TYPE NAME_FAMILY_STATUS  \\\n",
       "0          427500.0          Working    Higher education     Civil marriage   \n",
       "1          427500.0          Working    Higher education     Civil marriage   \n",
       "2          427500.0          Working    Higher education     Civil marriage   \n",
       "3          427500.0          Working    Higher education     Civil marriage   \n",
       "4          427500.0          Working    Higher education     Civil marriage   \n",
       "\n",
       "  NAME_HOUSING_TYPE  DAYS_BIRTH  DAYS_EMPLOYED  FLAG_MOBIL  FLAG_WORK_PHONE  \\\n",
       "0  Rented apartment      -12005          -4542           1                1   \n",
       "1  Rented apartment      -12005          -4542           1                1   \n",
       "2  Rented apartment      -12005          -4542           1                1   \n",
       "3  Rented apartment      -12005          -4542           1                1   \n",
       "4  Rented apartment      -12005          -4542           1                1   \n",
       "\n",
       "   FLAG_PHONE  FLAG_EMAIL OCCUPATION_TYPE  CNT_FAM_MEMBERS  MONTHS_BALANCE  \\\n",
       "0           0           0             NaN              2.0             0.0   \n",
       "1           0           0             NaN              2.0            -1.0   \n",
       "2           0           0             NaN              2.0            -2.0   \n",
       "3           0           0             NaN              2.0            -3.0   \n",
       "4           0           0             NaN              2.0            -4.0   \n",
       "\n",
       "  STATUS  \n",
       "0      C  \n",
       "1      C  \n",
       "2      C  \n",
       "3      C  \n",
       "4      C  "
      ]
     },
     "execution_count": 8,
     "metadata": {},
     "output_type": "execute_result"
    }
   ],
   "source": [
    "#Let's join both datasets on ID\n",
    "\n",
    "df = df1.merge(df2, on='ID', how='left')\n",
    "df.head()"
   ]
  },
  {
   "cell_type": "code",
   "execution_count": 9,
   "metadata": {
    "colab": {
     "base_uri": "https://localhost:8080/"
    },
    "id": "x61uNRWyOSMB",
    "outputId": "e03b1d1c-69d5-4147-a12f-82d7166ddfe7"
   },
   "outputs": [
    {
     "data": {
      "text/plain": [
       "1179815"
      ]
     },
     "execution_count": 9,
     "metadata": {},
     "output_type": "execute_result"
    }
   ],
   "source": [
    "len(df)"
   ]
  },
  {
   "cell_type": "code",
   "execution_count": 10,
   "metadata": {
    "id": "ff45iCIeOhSf"
   },
   "outputs": [
    {
     "name": "stderr",
     "output_type": "stream",
     "text": [
      "/Users/parthxparab/anaconda3/lib/python3.7/site-packages/pandas/core/ops/array_ops.py:253: FutureWarning: elementwise comparison failed; returning scalar instead, but in the future will perform elementwise comparison\n",
      "  res_values = method(rvalues)\n"
     ]
    }
   ],
   "source": [
    "df.dropna()\n",
    "df = df.mask(df == 'NULL').dropna()"
   ]
  },
  {
   "cell_type": "code",
   "execution_count": 11,
   "metadata": {
    "colab": {
     "base_uri": "https://localhost:8080/"
    },
    "id": "A4RBXLrIOpPF",
    "outputId": "7c0cbdbc-f497-47e0-c083-8e972c114dab"
   },
   "outputs": [
    {
     "data": {
      "text/plain": [
       "537667"
      ]
     },
     "execution_count": 11,
     "metadata": {},
     "output_type": "execute_result"
    }
   ],
   "source": [
    "len(df)"
   ]
  },
  {
   "cell_type": "code",
   "execution_count": 12,
   "metadata": {
    "id": "9i7gWR26OqVW"
   },
   "outputs": [],
   "source": [
    "def risk(x):\n",
    "    if x >= -3:\n",
    "        return 'no'\n",
    "    elif x < -3:\n",
    "        return 'yes'\n",
    "    else:\n",
    "        return 'null'\n",
    "\n",
    "df['RISK'] = df['MONTHS_BALANCE'].apply(lambda x: risk(x))"
   ]
  },
  {
   "cell_type": "code",
   "execution_count": 13,
   "metadata": {
    "colab": {
     "base_uri": "https://localhost:8080/",
     "height": 309
    },
    "id": "wyIbOEDQRok7",
    "outputId": "c514984c-b3f2-4d01-b285-b8cbbed9d505"
   },
   "outputs": [
    {
     "data": {
      "text/html": [
       "<div>\n",
       "<style scoped>\n",
       "    .dataframe tbody tr th:only-of-type {\n",
       "        vertical-align: middle;\n",
       "    }\n",
       "\n",
       "    .dataframe tbody tr th {\n",
       "        vertical-align: top;\n",
       "    }\n",
       "\n",
       "    .dataframe thead th {\n",
       "        text-align: right;\n",
       "    }\n",
       "</style>\n",
       "<table border=\"1\" class=\"dataframe\">\n",
       "  <thead>\n",
       "    <tr style=\"text-align: right;\">\n",
       "      <th></th>\n",
       "      <th>ID</th>\n",
       "      <th>CODE_GENDER</th>\n",
       "      <th>FLAG_OWN_CAR</th>\n",
       "      <th>FLAG_OWN_REALTY</th>\n",
       "      <th>CNT_CHILDREN</th>\n",
       "      <th>AMT_INCOME_TOTAL</th>\n",
       "      <th>NAME_INCOME_TYPE</th>\n",
       "      <th>NAME_EDUCATION_TYPE</th>\n",
       "      <th>NAME_FAMILY_STATUS</th>\n",
       "      <th>NAME_HOUSING_TYPE</th>\n",
       "      <th>...</th>\n",
       "      <th>DAYS_EMPLOYED</th>\n",
       "      <th>FLAG_MOBIL</th>\n",
       "      <th>FLAG_WORK_PHONE</th>\n",
       "      <th>FLAG_PHONE</th>\n",
       "      <th>FLAG_EMAIL</th>\n",
       "      <th>OCCUPATION_TYPE</th>\n",
       "      <th>CNT_FAM_MEMBERS</th>\n",
       "      <th>MONTHS_BALANCE</th>\n",
       "      <th>STATUS</th>\n",
       "      <th>RISK</th>\n",
       "    </tr>\n",
       "  </thead>\n",
       "  <tbody>\n",
       "    <tr>\n",
       "      <th>1176066</th>\n",
       "      <td>5150337</td>\n",
       "      <td>M</td>\n",
       "      <td>N</td>\n",
       "      <td>Y</td>\n",
       "      <td>0</td>\n",
       "      <td>112500.0</td>\n",
       "      <td>Working</td>\n",
       "      <td>Secondary / secondary special</td>\n",
       "      <td>Single / not married</td>\n",
       "      <td>Rented apartment</td>\n",
       "      <td>...</td>\n",
       "      <td>-1193</td>\n",
       "      <td>1</td>\n",
       "      <td>0</td>\n",
       "      <td>0</td>\n",
       "      <td>0</td>\n",
       "      <td>Laborers</td>\n",
       "      <td>1.0</td>\n",
       "      <td>-9.0</td>\n",
       "      <td>0</td>\n",
       "      <td>yes</td>\n",
       "    </tr>\n",
       "    <tr>\n",
       "      <th>1176067</th>\n",
       "      <td>5150337</td>\n",
       "      <td>M</td>\n",
       "      <td>N</td>\n",
       "      <td>Y</td>\n",
       "      <td>0</td>\n",
       "      <td>112500.0</td>\n",
       "      <td>Working</td>\n",
       "      <td>Secondary / secondary special</td>\n",
       "      <td>Single / not married</td>\n",
       "      <td>Rented apartment</td>\n",
       "      <td>...</td>\n",
       "      <td>-1193</td>\n",
       "      <td>1</td>\n",
       "      <td>0</td>\n",
       "      <td>0</td>\n",
       "      <td>0</td>\n",
       "      <td>Laborers</td>\n",
       "      <td>1.0</td>\n",
       "      <td>-10.0</td>\n",
       "      <td>2</td>\n",
       "      <td>yes</td>\n",
       "    </tr>\n",
       "    <tr>\n",
       "      <th>1176068</th>\n",
       "      <td>5150337</td>\n",
       "      <td>M</td>\n",
       "      <td>N</td>\n",
       "      <td>Y</td>\n",
       "      <td>0</td>\n",
       "      <td>112500.0</td>\n",
       "      <td>Working</td>\n",
       "      <td>Secondary / secondary special</td>\n",
       "      <td>Single / not married</td>\n",
       "      <td>Rented apartment</td>\n",
       "      <td>...</td>\n",
       "      <td>-1193</td>\n",
       "      <td>1</td>\n",
       "      <td>0</td>\n",
       "      <td>0</td>\n",
       "      <td>0</td>\n",
       "      <td>Laborers</td>\n",
       "      <td>1.0</td>\n",
       "      <td>-11.0</td>\n",
       "      <td>1</td>\n",
       "      <td>yes</td>\n",
       "    </tr>\n",
       "    <tr>\n",
       "      <th>1176069</th>\n",
       "      <td>5150337</td>\n",
       "      <td>M</td>\n",
       "      <td>N</td>\n",
       "      <td>Y</td>\n",
       "      <td>0</td>\n",
       "      <td>112500.0</td>\n",
       "      <td>Working</td>\n",
       "      <td>Secondary / secondary special</td>\n",
       "      <td>Single / not married</td>\n",
       "      <td>Rented apartment</td>\n",
       "      <td>...</td>\n",
       "      <td>-1193</td>\n",
       "      <td>1</td>\n",
       "      <td>0</td>\n",
       "      <td>0</td>\n",
       "      <td>0</td>\n",
       "      <td>Laborers</td>\n",
       "      <td>1.0</td>\n",
       "      <td>-12.0</td>\n",
       "      <td>0</td>\n",
       "      <td>yes</td>\n",
       "    </tr>\n",
       "    <tr>\n",
       "      <th>1176070</th>\n",
       "      <td>5150337</td>\n",
       "      <td>M</td>\n",
       "      <td>N</td>\n",
       "      <td>Y</td>\n",
       "      <td>0</td>\n",
       "      <td>112500.0</td>\n",
       "      <td>Working</td>\n",
       "      <td>Secondary / secondary special</td>\n",
       "      <td>Single / not married</td>\n",
       "      <td>Rented apartment</td>\n",
       "      <td>...</td>\n",
       "      <td>-1193</td>\n",
       "      <td>1</td>\n",
       "      <td>0</td>\n",
       "      <td>0</td>\n",
       "      <td>0</td>\n",
       "      <td>Laborers</td>\n",
       "      <td>1.0</td>\n",
       "      <td>-13.0</td>\n",
       "      <td>0</td>\n",
       "      <td>yes</td>\n",
       "    </tr>\n",
       "  </tbody>\n",
       "</table>\n",
       "<p>5 rows × 21 columns</p>\n",
       "</div>"
      ],
      "text/plain": [
       "              ID CODE_GENDER FLAG_OWN_CAR FLAG_OWN_REALTY  CNT_CHILDREN  \\\n",
       "1176066  5150337           M            N               Y             0   \n",
       "1176067  5150337           M            N               Y             0   \n",
       "1176068  5150337           M            N               Y             0   \n",
       "1176069  5150337           M            N               Y             0   \n",
       "1176070  5150337           M            N               Y             0   \n",
       "\n",
       "         AMT_INCOME_TOTAL NAME_INCOME_TYPE            NAME_EDUCATION_TYPE  \\\n",
       "1176066          112500.0          Working  Secondary / secondary special   \n",
       "1176067          112500.0          Working  Secondary / secondary special   \n",
       "1176068          112500.0          Working  Secondary / secondary special   \n",
       "1176069          112500.0          Working  Secondary / secondary special   \n",
       "1176070          112500.0          Working  Secondary / secondary special   \n",
       "\n",
       "           NAME_FAMILY_STATUS NAME_HOUSING_TYPE  ...  DAYS_EMPLOYED  \\\n",
       "1176066  Single / not married  Rented apartment  ...          -1193   \n",
       "1176067  Single / not married  Rented apartment  ...          -1193   \n",
       "1176068  Single / not married  Rented apartment  ...          -1193   \n",
       "1176069  Single / not married  Rented apartment  ...          -1193   \n",
       "1176070  Single / not married  Rented apartment  ...          -1193   \n",
       "\n",
       "         FLAG_MOBIL  FLAG_WORK_PHONE  FLAG_PHONE  FLAG_EMAIL  OCCUPATION_TYPE  \\\n",
       "1176066           1                0           0           0         Laborers   \n",
       "1176067           1                0           0           0         Laborers   \n",
       "1176068           1                0           0           0         Laborers   \n",
       "1176069           1                0           0           0         Laborers   \n",
       "1176070           1                0           0           0         Laborers   \n",
       "\n",
       "        CNT_FAM_MEMBERS  MONTHS_BALANCE  STATUS RISK  \n",
       "1176066             1.0            -9.0       0  yes  \n",
       "1176067             1.0           -10.0       2  yes  \n",
       "1176068             1.0           -11.0       1  yes  \n",
       "1176069             1.0           -12.0       0  yes  \n",
       "1176070             1.0           -13.0       0  yes  \n",
       "\n",
       "[5 rows x 21 columns]"
      ]
     },
     "execution_count": 13,
     "metadata": {},
     "output_type": "execute_result"
    }
   ],
   "source": [
    "df.tail()"
   ]
  },
  {
   "cell_type": "code",
   "execution_count": 14,
   "metadata": {
    "colab": {
     "base_uri": "https://localhost:8080/",
     "height": 717
    },
    "id": "B_Jlq53tSfB2",
    "outputId": "c48d45ff-3ec0-4bec-930d-3d997c1c1974"
   },
   "outputs": [
    {
     "data": {
      "text/plain": [
       "<matplotlib.axes._subplots.AxesSubplot at 0x7f872f9bdb50>"
      ]
     },
     "execution_count": 14,
     "metadata": {},
     "output_type": "execute_result"
    },
    {
     "data": {
      "image/png": "[encoded data removed]",
      "text/plain": [
       "<Figure size 648x864 with 1 Axes>"
      ]
     },
     "metadata": {
      "needs_background": "light"
     },
     "output_type": "display_data"
    }
   ],
   "source": [
    "df['OCCUPATION_TYPE'].value_counts().sort_values().plot(kind='barh', figsize=(9,12), alpha=0.7)"
   ]
  },
  {
   "cell_type": "code",
   "execution_count": 15,
   "metadata": {
    "colab": {
     "base_uri": "https://localhost:8080/",
     "height": 549
    },
    "id": "R8FplqUwZmIr",
    "outputId": "90fe90ea-847c-49ef-ca0d-179570abb642"
   },
   "outputs": [
    {
     "data": {
      "text/html": [
       "<div>\n",
       "<style scoped>\n",
       "    .dataframe tbody tr th:only-of-type {\n",
       "        vertical-align: middle;\n",
       "    }\n",
       "\n",
       "    .dataframe tbody tr th {\n",
       "        vertical-align: top;\n",
       "    }\n",
       "\n",
       "    .dataframe thead th {\n",
       "        text-align: right;\n",
       "    }\n",
       "</style>\n",
       "<table border=\"1\" class=\"dataframe\">\n",
       "  <thead>\n",
       "    <tr style=\"text-align: right;\">\n",
       "      <th></th>\n",
       "      <th>ID</th>\n",
       "      <th>CODE_GENDER</th>\n",
       "      <th>FLAG_OWN_CAR</th>\n",
       "      <th>FLAG_OWN_REALTY</th>\n",
       "      <th>CNT_CHILDREN</th>\n",
       "      <th>AMT_INCOME_TOTAL</th>\n",
       "      <th>NAME_INCOME_TYPE</th>\n",
       "      <th>NAME_EDUCATION_TYPE</th>\n",
       "      <th>NAME_FAMILY_STATUS</th>\n",
       "      <th>NAME_HOUSING_TYPE</th>\n",
       "      <th>...</th>\n",
       "      <th>FLAG_MOBIL</th>\n",
       "      <th>FLAG_WORK_PHONE</th>\n",
       "      <th>FLAG_PHONE</th>\n",
       "      <th>FLAG_EMAIL</th>\n",
       "      <th>OCCUPATION_TYPE</th>\n",
       "      <th>CNT_FAM_MEMBERS</th>\n",
       "      <th>MONTHS_BALANCE</th>\n",
       "      <th>STATUS</th>\n",
       "      <th>RISK</th>\n",
       "      <th>Label</th>\n",
       "    </tr>\n",
       "  </thead>\n",
       "  <tbody>\n",
       "    <tr>\n",
       "      <th>31</th>\n",
       "      <td>5008806</td>\n",
       "      <td>M</td>\n",
       "      <td>Y</td>\n",
       "      <td>Y</td>\n",
       "      <td>0</td>\n",
       "      <td>112500.0</td>\n",
       "      <td>Working</td>\n",
       "      <td>Secondary / secondary special</td>\n",
       "      <td>Married</td>\n",
       "      <td>House / apartment</td>\n",
       "      <td>...</td>\n",
       "      <td>1</td>\n",
       "      <td>0</td>\n",
       "      <td>0</td>\n",
       "      <td>0</td>\n",
       "      <td>Security staff</td>\n",
       "      <td>2.0</td>\n",
       "      <td>0.0</td>\n",
       "      <td>C</td>\n",
       "      <td>no</td>\n",
       "      <td>0</td>\n",
       "    </tr>\n",
       "    <tr>\n",
       "      <th>32</th>\n",
       "      <td>5008806</td>\n",
       "      <td>M</td>\n",
       "      <td>Y</td>\n",
       "      <td>Y</td>\n",
       "      <td>0</td>\n",
       "      <td>112500.0</td>\n",
       "      <td>Working</td>\n",
       "      <td>Secondary / secondary special</td>\n",
       "      <td>Married</td>\n",
       "      <td>House / apartment</td>\n",
       "      <td>...</td>\n",
       "      <td>1</td>\n",
       "      <td>0</td>\n",
       "      <td>0</td>\n",
       "      <td>0</td>\n",
       "      <td>Security staff</td>\n",
       "      <td>2.0</td>\n",
       "      <td>-1.0</td>\n",
       "      <td>C</td>\n",
       "      <td>no</td>\n",
       "      <td>0</td>\n",
       "    </tr>\n",
       "    <tr>\n",
       "      <th>33</th>\n",
       "      <td>5008806</td>\n",
       "      <td>M</td>\n",
       "      <td>Y</td>\n",
       "      <td>Y</td>\n",
       "      <td>0</td>\n",
       "      <td>112500.0</td>\n",
       "      <td>Working</td>\n",
       "      <td>Secondary / secondary special</td>\n",
       "      <td>Married</td>\n",
       "      <td>House / apartment</td>\n",
       "      <td>...</td>\n",
       "      <td>1</td>\n",
       "      <td>0</td>\n",
       "      <td>0</td>\n",
       "      <td>0</td>\n",
       "      <td>Security staff</td>\n",
       "      <td>2.0</td>\n",
       "      <td>-2.0</td>\n",
       "      <td>C</td>\n",
       "      <td>no</td>\n",
       "      <td>0</td>\n",
       "    </tr>\n",
       "    <tr>\n",
       "      <th>34</th>\n",
       "      <td>5008806</td>\n",
       "      <td>M</td>\n",
       "      <td>Y</td>\n",
       "      <td>Y</td>\n",
       "      <td>0</td>\n",
       "      <td>112500.0</td>\n",
       "      <td>Working</td>\n",
       "      <td>Secondary / secondary special</td>\n",
       "      <td>Married</td>\n",
       "      <td>House / apartment</td>\n",
       "      <td>...</td>\n",
       "      <td>1</td>\n",
       "      <td>0</td>\n",
       "      <td>0</td>\n",
       "      <td>0</td>\n",
       "      <td>Security staff</td>\n",
       "      <td>2.0</td>\n",
       "      <td>-3.0</td>\n",
       "      <td>C</td>\n",
       "      <td>no</td>\n",
       "      <td>0</td>\n",
       "    </tr>\n",
       "    <tr>\n",
       "      <th>35</th>\n",
       "      <td>5008806</td>\n",
       "      <td>M</td>\n",
       "      <td>Y</td>\n",
       "      <td>Y</td>\n",
       "      <td>0</td>\n",
       "      <td>112500.0</td>\n",
       "      <td>Working</td>\n",
       "      <td>Secondary / secondary special</td>\n",
       "      <td>Married</td>\n",
       "      <td>House / apartment</td>\n",
       "      <td>...</td>\n",
       "      <td>1</td>\n",
       "      <td>0</td>\n",
       "      <td>0</td>\n",
       "      <td>0</td>\n",
       "      <td>Security staff</td>\n",
       "      <td>2.0</td>\n",
       "      <td>-4.0</td>\n",
       "      <td>C</td>\n",
       "      <td>yes</td>\n",
       "      <td>0</td>\n",
       "    </tr>\n",
       "    <tr>\n",
       "      <th>36</th>\n",
       "      <td>5008806</td>\n",
       "      <td>M</td>\n",
       "      <td>Y</td>\n",
       "      <td>Y</td>\n",
       "      <td>0</td>\n",
       "      <td>112500.0</td>\n",
       "      <td>Working</td>\n",
       "      <td>Secondary / secondary special</td>\n",
       "      <td>Married</td>\n",
       "      <td>House / apartment</td>\n",
       "      <td>...</td>\n",
       "      <td>1</td>\n",
       "      <td>0</td>\n",
       "      <td>0</td>\n",
       "      <td>0</td>\n",
       "      <td>Security staff</td>\n",
       "      <td>2.0</td>\n",
       "      <td>-5.0</td>\n",
       "      <td>C</td>\n",
       "      <td>yes</td>\n",
       "      <td>0</td>\n",
       "    </tr>\n",
       "    <tr>\n",
       "      <th>37</th>\n",
       "      <td>5008806</td>\n",
       "      <td>M</td>\n",
       "      <td>Y</td>\n",
       "      <td>Y</td>\n",
       "      <td>0</td>\n",
       "      <td>112500.0</td>\n",
       "      <td>Working</td>\n",
       "      <td>Secondary / secondary special</td>\n",
       "      <td>Married</td>\n",
       "      <td>House / apartment</td>\n",
       "      <td>...</td>\n",
       "      <td>1</td>\n",
       "      <td>0</td>\n",
       "      <td>0</td>\n",
       "      <td>0</td>\n",
       "      <td>Security staff</td>\n",
       "      <td>2.0</td>\n",
       "      <td>-6.0</td>\n",
       "      <td>C</td>\n",
       "      <td>yes</td>\n",
       "      <td>0</td>\n",
       "    </tr>\n",
       "    <tr>\n",
       "      <th>38</th>\n",
       "      <td>5008806</td>\n",
       "      <td>M</td>\n",
       "      <td>Y</td>\n",
       "      <td>Y</td>\n",
       "      <td>0</td>\n",
       "      <td>112500.0</td>\n",
       "      <td>Working</td>\n",
       "      <td>Secondary / secondary special</td>\n",
       "      <td>Married</td>\n",
       "      <td>House / apartment</td>\n",
       "      <td>...</td>\n",
       "      <td>1</td>\n",
       "      <td>0</td>\n",
       "      <td>0</td>\n",
       "      <td>0</td>\n",
       "      <td>Security staff</td>\n",
       "      <td>2.0</td>\n",
       "      <td>-7.0</td>\n",
       "      <td>X</td>\n",
       "      <td>yes</td>\n",
       "      <td>0</td>\n",
       "    </tr>\n",
       "    <tr>\n",
       "      <th>39</th>\n",
       "      <td>5008806</td>\n",
       "      <td>M</td>\n",
       "      <td>Y</td>\n",
       "      <td>Y</td>\n",
       "      <td>0</td>\n",
       "      <td>112500.0</td>\n",
       "      <td>Working</td>\n",
       "      <td>Secondary / secondary special</td>\n",
       "      <td>Married</td>\n",
       "      <td>House / apartment</td>\n",
       "      <td>...</td>\n",
       "      <td>1</td>\n",
       "      <td>0</td>\n",
       "      <td>0</td>\n",
       "      <td>0</td>\n",
       "      <td>Security staff</td>\n",
       "      <td>2.0</td>\n",
       "      <td>-8.0</td>\n",
       "      <td>0</td>\n",
       "      <td>yes</td>\n",
       "      <td>1</td>\n",
       "    </tr>\n",
       "    <tr>\n",
       "      <th>40</th>\n",
       "      <td>5008806</td>\n",
       "      <td>M</td>\n",
       "      <td>Y</td>\n",
       "      <td>Y</td>\n",
       "      <td>0</td>\n",
       "      <td>112500.0</td>\n",
       "      <td>Working</td>\n",
       "      <td>Secondary / secondary special</td>\n",
       "      <td>Married</td>\n",
       "      <td>House / apartment</td>\n",
       "      <td>...</td>\n",
       "      <td>1</td>\n",
       "      <td>0</td>\n",
       "      <td>0</td>\n",
       "      <td>0</td>\n",
       "      <td>Security staff</td>\n",
       "      <td>2.0</td>\n",
       "      <td>-9.0</td>\n",
       "      <td>0</td>\n",
       "      <td>yes</td>\n",
       "      <td>1</td>\n",
       "    </tr>\n",
       "  </tbody>\n",
       "</table>\n",
       "<p>10 rows × 22 columns</p>\n",
       "</div>"
      ],
      "text/plain": [
       "         ID CODE_GENDER FLAG_OWN_CAR FLAG_OWN_REALTY  CNT_CHILDREN  \\\n",
       "31  5008806           M            Y               Y             0   \n",
       "32  5008806           M            Y               Y             0   \n",
       "33  5008806           M            Y               Y             0   \n",
       "34  5008806           M            Y               Y             0   \n",
       "35  5008806           M            Y               Y             0   \n",
       "36  5008806           M            Y               Y             0   \n",
       "37  5008806           M            Y               Y             0   \n",
       "38  5008806           M            Y               Y             0   \n",
       "39  5008806           M            Y               Y             0   \n",
       "40  5008806           M            Y               Y             0   \n",
       "\n",
       "    AMT_INCOME_TOTAL NAME_INCOME_TYPE            NAME_EDUCATION_TYPE  \\\n",
       "31          112500.0          Working  Secondary / secondary special   \n",
       "32          112500.0          Working  Secondary / secondary special   \n",
       "33          112500.0          Working  Secondary / secondary special   \n",
       "34          112500.0          Working  Secondary / secondary special   \n",
       "35          112500.0          Working  Secondary / secondary special   \n",
       "36          112500.0          Working  Secondary / secondary special   \n",
       "37          112500.0          Working  Secondary / secondary special   \n",
       "38          112500.0          Working  Secondary / secondary special   \n",
       "39          112500.0          Working  Secondary / secondary special   \n",
       "40          112500.0          Working  Secondary / secondary special   \n",
       "\n",
       "   NAME_FAMILY_STATUS  NAME_HOUSING_TYPE  ...  FLAG_MOBIL  FLAG_WORK_PHONE  \\\n",
       "31            Married  House / apartment  ...           1                0   \n",
       "32            Married  House / apartment  ...           1                0   \n",
       "33            Married  House / apartment  ...           1                0   \n",
       "34            Married  House / apartment  ...           1                0   \n",
       "35            Married  House / apartment  ...           1                0   \n",
       "36            Married  House / apartment  ...           1                0   \n",
       "37            Married  House / apartment  ...           1                0   \n",
       "38            Married  House / apartment  ...           1                0   \n",
       "39            Married  House / apartment  ...           1                0   \n",
       "40            Married  House / apartment  ...           1                0   \n",
       "\n",
       "    FLAG_PHONE  FLAG_EMAIL  OCCUPATION_TYPE  CNT_FAM_MEMBERS MONTHS_BALANCE  \\\n",
       "31           0           0   Security staff              2.0            0.0   \n",
       "32           0           0   Security staff              2.0           -1.0   \n",
       "33           0           0   Security staff              2.0           -2.0   \n",
       "34           0           0   Security staff              2.0           -3.0   \n",
       "35           0           0   Security staff              2.0           -4.0   \n",
       "36           0           0   Security staff              2.0           -5.0   \n",
       "37           0           0   Security staff              2.0           -6.0   \n",
       "38           0           0   Security staff              2.0           -7.0   \n",
       "39           0           0   Security staff              2.0           -8.0   \n",
       "40           0           0   Security staff              2.0           -9.0   \n",
       "\n",
       "    STATUS  RISK Label  \n",
       "31       C    no     0  \n",
       "32       C    no     0  \n",
       "33       C    no     0  \n",
       "34       C    no     0  \n",
       "35       C   yes     0  \n",
       "36       C   yes     0  \n",
       "37       C   yes     0  \n",
       "38       X   yes     0  \n",
       "39       0   yes     1  \n",
       "40       0   yes     1  \n",
       "\n",
       "[10 rows x 22 columns]"
      ]
     },
     "execution_count": 15,
     "metadata": {},
     "output_type": "execute_result"
    }
   ],
   "source": [
    "defaulter_codes= ['0','1','2','3','4','5']\n",
    "# data labelling. 1 is a defaulter 0 is not\n",
    "df['Label'] = np.where(df.STATUS.isin(defaulter_codes), 1, 0)\n",
    "df.head(10)"
   ]
  },
  {
   "cell_type": "code",
   "execution_count": 16,
   "metadata": {
    "colab": {
     "base_uri": "https://localhost:8080/"
    },
    "id": "oNKIP7utaHgX",
    "outputId": "460032b3-d6c7-4ff2-cbb6-caa2f44280a3"
   },
   "outputs": [
    {
     "data": {
      "text/plain": [
       "0    328352\n",
       "1    209315\n",
       "Name: Label, dtype: int64"
      ]
     },
     "execution_count": 16,
     "metadata": {},
     "output_type": "execute_result"
    }
   ],
   "source": [
    "df.drop('STATUS', axis=1, inplace=True)\n",
    "df['Label'].value_counts()"
   ]
  },
  {
   "cell_type": "code",
   "execution_count": 17,
   "metadata": {
    "colab": {
     "base_uri": "https://localhost:8080/"
    },
    "id": "Vkar7sPsu6dA",
    "outputId": "67c55f91-0e9e-4764-b64a-52937e16ec3a"
   },
   "outputs": [
    {
     "data": {
      "text/plain": [
       "537667"
      ]
     },
     "execution_count": 17,
     "metadata": {},
     "output_type": "execute_result"
    }
   ],
   "source": [
    "len(df)"
   ]
  },
  {
   "cell_type": "code",
   "execution_count": 18,
   "metadata": {
    "colab": {
     "base_uri": "https://localhost:8080/",
     "height": 279
    },
    "id": "6LZqg26_aVJa",
    "outputId": "4ae87502-ed25-47a7-dd0f-56c2a9f3ff4c"
   },
   "outputs": [
    {
     "data": {
      "image/png": "[encoded data removed]",
      "text/plain": [
       "<Figure size 432x288 with 1 Axes>"
      ]
     },
     "metadata": {
      "needs_background": "light"
     },
     "output_type": "display_data"
    }
   ],
   "source": [
    "chart=sns.countplot(x='Label', data = df, palette = 'hls')"
   ]
  },
  {
   "cell_type": "code",
   "execution_count": 19,
   "metadata": {
    "colab": {
     "base_uri": "https://localhost:8080/",
     "height": 311
    },
    "id": "gplt5Wrdaa9I",
    "outputId": "440823c9-b140-4a2d-f36a-a846cec2d093"
   },
   "outputs": [
    {
     "data": {
      "text/plain": [
       "Text(0, 0.5, 'Number of Defaulters')"
      ]
     },
     "execution_count": 19,
     "metadata": {},
     "output_type": "execute_result"
    },
    {
     "data": {
      "image/png": "[encoded data removed]",
      "text/plain": [
       "<Figure size 432x288 with 1 Axes>"
      ]
     },
     "metadata": {
      "needs_background": "light"
     },
     "output_type": "display_data"
    }
   ],
   "source": [
    "pd.crosstab(df.CODE_GENDER,df.Label).plot(kind='bar')\n",
    "plt.title('gender vs Label')\n",
    "plt.xlabel('gender')\n",
    "plt.ylabel('Number of Defaulters')\n"
   ]
  },
  {
   "cell_type": "code",
   "execution_count": 20,
   "metadata": {
    "colab": {
     "base_uri": "https://localhost:8080/",
     "height": 310
    },
    "id": "TUagKad_agZr",
    "outputId": "30ee2789-7513-41d9-f47b-e58eccdea09e"
   },
   "outputs": [
    {
     "data": {
      "text/plain": [
       "Text(0, 0.5, 'Number of Defaulters')"
      ]
     },
     "execution_count": 20,
     "metadata": {},
     "output_type": "execute_result"
    },
    {
     "data": {
      "image/png": "[encoded data removed]",
      "text/plain": [
       "<Figure size 432x288 with 1 Axes>"
      ]
     },
     "metadata": {
      "needs_background": "light"
     },
     "output_type": "display_data"
    }
   ],
   "source": [
    "pd.crosstab(df.FLAG_OWN_CAR,df.Label).plot(kind='bar')\n",
    "plt.title('car ownership vs Label')\n",
    "plt.xlabel('car owner')\n",
    "plt.ylabel('Number of Defaulters')"
   ]
  },
  {
   "cell_type": "code",
   "execution_count": 21,
   "metadata": {
    "colab": {
     "base_uri": "https://localhost:8080/",
     "height": 424
    },
    "id": "TG4ej-upamYb",
    "outputId": "b5a83cc9-92c9-4ac0-9338-2e6d36598191"
   },
   "outputs": [
    {
     "data": {
      "text/plain": [
       "Text(0, 0.5, 'Number of Defaulters')"
      ]
     },
     "execution_count": 21,
     "metadata": {},
     "output_type": "execute_result"
    },
    {
     "data": {
      "image/png": "[encoded data removed]",
      "text/plain": [
       "<Figure size 864x432 with 1 Axes>"
      ]
     },
     "metadata": {
      "needs_background": "light"
     },
     "output_type": "display_data"
    }
   ],
   "source": [
    "pd.crosstab(df.CNT_CHILDREN, df.Label).plot(kind='bar', figsize=(12,6))\n",
    "plt.title('#children Vs Label')\n",
    "plt.xlabel('number of children')\n",
    "plt.ylabel('Number of Defaulters')"
   ]
  },
  {
   "cell_type": "code",
   "execution_count": 22,
   "metadata": {
    "colab": {
     "base_uri": "https://localhost:8080/",
     "height": 521
    },
    "id": "Aiiu8e84as0K",
    "outputId": "f27e4be9-0311-4808-e668-34813213831b"
   },
   "outputs": [
    {
     "data": {
      "text/plain": [
       "Text(0, 0.5, 'number of defaulters')"
      ]
     },
     "execution_count": 22,
     "metadata": {},
     "output_type": "execute_result"
    },
    {
     "data": {
      "image/png": "[encoded data removed]",
      "text/plain": [
       "<Figure size 864x432 with 1 Axes>"
      ]
     },
     "metadata": {
      "needs_background": "light"
     },
     "output_type": "display_data"
    }
   ],
   "source": [
    "pd.crosstab(df.NAME_INCOME_TYPE, df.Label).plot(kind='bar', figsize=(12,6))\n",
    "plt.title('Label by income type')\n",
    "plt.xlabel('income type')\n",
    "plt.ylabel('number of defaulters')"
   ]
  },
  {
   "cell_type": "code",
   "execution_count": 23,
   "metadata": {
    "colab": {
     "base_uri": "https://localhost:8080/",
     "height": 570
    },
    "id": "7B4_4XjBaw55",
    "outputId": "9e0a3182-b414-45d2-a4e2-f2a92fd28ab4"
   },
   "outputs": [
    {
     "data": {
      "text/plain": [
       "Text(0.5, 1.0, 'education type vs label')"
      ]
     },
     "execution_count": 23,
     "metadata": {},
     "output_type": "execute_result"
    },
    {
     "data": {
      "image/png": "[encoded data removed]",
      "text/plain": [
       "<Figure size 648x648 with 1 Axes>"
      ]
     },
     "metadata": {
      "needs_background": "light"
     },
     "output_type": "display_data"
    }
   ],
   "source": [
    "pd.crosstab(df.NAME_EDUCATION_TYPE, df.Label).plot(kind='barh', figsize=(9,9))\n",
    "plt.title('education type vs label')"
   ]
  },
  {
   "cell_type": "code",
   "execution_count": 24,
   "metadata": {
    "colab": {
     "base_uri": "https://localhost:8080/",
     "height": 511
    },
    "id": "tLmV__eXa4pd",
    "outputId": "e231aa57-cdf5-4c75-c8ce-745b6f02936d"
   },
   "outputs": [
    {
     "data": {
      "text/plain": [
       "Text(0.5, 1.0, 'FAMILY_STATUS versus Label')"
      ]
     },
     "execution_count": 24,
     "metadata": {},
     "output_type": "execute_result"
    },
    {
     "data": {
      "image/png": "[encoded data removed]",
      "text/plain": [
       "<Figure size 648x432 with 1 Axes>"
      ]
     },
     "metadata": {
      "needs_background": "light"
     },
     "output_type": "display_data"
    }
   ],
   "source": [
    "pd.crosstab(df.NAME_FAMILY_STATUS, df.Label).plot(kind='bar', figsize=(9,6))\n",
    "plt.title('FAMILY_STATUS versus Label')"
   ]
  },
  {
   "cell_type": "code",
   "execution_count": 25,
   "metadata": {
    "colab": {
     "base_uri": "https://localhost:8080/",
     "height": 515
    },
    "id": "pOAUtfaFa-IJ",
    "outputId": "0b8c6bb5-31ad-4c1e-9c22-67632f86692c"
   },
   "outputs": [
    {
     "data": {
      "text/plain": [
       "Text(0.5, 1.0, 'HOUSING_TYPE versus Label')"
      ]
     },
     "execution_count": 25,
     "metadata": {},
     "output_type": "execute_result"
    },
    {
     "data": {
      "image/png": "[encoded data removed]",
      "text/plain": [
       "<Figure size 648x432 with 1 Axes>"
      ]
     },
     "metadata": {
      "needs_background": "light"
     },
     "output_type": "display_data"
    }
   ],
   "source": [
    "pd.crosstab(df.NAME_HOUSING_TYPE, df.Label).plot(kind='bar', figsize=(9,6))\n",
    "plt.title('HOUSING_TYPE versus Label')"
   ]
  },
  {
   "cell_type": "code",
   "execution_count": 26,
   "metadata": {
    "colab": {
     "base_uri": "https://localhost:8080/",
     "height": 433
    },
    "id": "HOeNbipQbCvk",
    "outputId": "13f1d1c2-6f2f-452d-9109-99bcac476266"
   },
   "outputs": [
    {
     "data": {
      "text/plain": [
       "Text(0, 0.5, 'number of defaulters')"
      ]
     },
     "execution_count": 26,
     "metadata": {},
     "output_type": "execute_result"
    },
    {
     "data": {
      "image/png": "[encoded data removed]",
      "text/plain": [
       "<Figure size 648x432 with 1 Axes>"
      ]
     },
     "metadata": {
      "needs_background": "light"
     },
     "output_type": "display_data"
    }
   ],
   "source": [
    "pd.crosstab(df.CNT_FAM_MEMBERS,df.Label).plot(kind='bar', figsize=(9,6))\n",
    "\n",
    "plt.title('Label by number of family')\n",
    "plt.xlabel('number of family members')\n",
    "plt.ylabel('number of defaulters')"
   ]
  },
  {
   "cell_type": "code",
   "execution_count": 27,
   "metadata": {
    "colab": {
     "base_uri": "https://localhost:8080/",
     "height": 422
    },
    "id": "YbSUz2qUbJam",
    "outputId": "a2d9da55-0316-4b99-a542-5502f505a0c5"
   },
   "outputs": [
    {
     "data": {
      "text/plain": [
       "Text(0, 0.5, 'Number of Defaulters')"
      ]
     },
     "execution_count": 27,
     "metadata": {},
     "output_type": "execute_result"
    },
    {
     "data": {
      "image/png": "[encoded data removed]",
      "text/plain": [
       "<Figure size 720x432 with 1 Axes>"
      ]
     },
     "metadata": {
      "needs_background": "light"
     },
     "output_type": "display_data"
    }
   ],
   "source": [
    "plt.figure(figsize=(10,6))\n",
    "df[df['Label']==1]['AMT_INCOME_TOTAL'].hist(alpha=0.7,color='blue',\n",
    "                                              bins=15,label='Label=1')\n",
    "df[df['Label']==0]['AMT_INCOME_TOTAL'].hist(alpha=0.3,color='green',\n",
    "                                                bins=15,label='Label=0')\n",
    "                                                    \n",
    "plt.title('defaulters across various income groups')                                                    \n",
    "plt.legend()\n",
    "plt.xlabel('AMT_INCOME')\n",
    "plt.ylabel('Number of Defaulters')"
   ]
  },
  {
   "cell_type": "code",
   "execution_count": 28,
   "metadata": {
    "colab": {
     "base_uri": "https://localhost:8080/",
     "height": 380
    },
    "id": "cZlBaF4qbSde",
    "outputId": "b466ec34-bd02-4f93-95b2-ceb7073aea27"
   },
   "outputs": [
    {
     "name": "stderr",
     "output_type": "stream",
     "text": [
      "/Users/parthxparab/anaconda3/lib/python3.7/site-packages/matplotlib/colors.py:527: RuntimeWarning: invalid value encountered in less\n",
      "  xa[xa < 0] = -1\n",
      "/Users/parthxparab/anaconda3/lib/python3.7/site-packages/pandas/io/formats/style.py:1089: RuntimeWarning: All-NaN slice encountered\n",
      "  smin = np.nanmin(s.to_numpy()) if vmin is None else vmin\n",
      "/Users/parthxparab/anaconda3/lib/python3.7/site-packages/pandas/io/formats/style.py:1090: RuntimeWarning: All-NaN slice encountered\n",
      "  smax = np.nanmax(s.to_numpy()) if vmax is None else vmax\n"
     ]
    },
    {
     "data": {
      "text/html": [
       "<style  type=\"text/css\" >\n",
       "    #T_6da6b9c2_418c_11eb_b736_88e9fe6e709erow0_col0 {\n",
       "            background-color:  #b40426;\n",
       "            color:  #f1f1f1;\n",
       "        }    #T_6da6b9c2_418c_11eb_b736_88e9fe6e709erow0_col1 {\n",
       "            background-color:  #4c66d6;\n",
       "            color:  #000000;\n",
       "        }    #T_6da6b9c2_418c_11eb_b736_88e9fe6e709erow0_col2 {\n",
       "            background-color:  #4961d2;\n",
       "            color:  #f1f1f1;\n",
       "        }    #T_6da6b9c2_418c_11eb_b736_88e9fe6e709erow0_col3 {\n",
       "            background-color:  #506bda;\n",
       "            color:  #000000;\n",
       "        }    #T_6da6b9c2_418c_11eb_b736_88e9fe6e709erow0_col4 {\n",
       "            background-color:  #465ecf;\n",
       "            color:  #f1f1f1;\n",
       "        }    #T_6da6b9c2_418c_11eb_b736_88e9fe6e709erow0_col5 {\n",
       "            background-color:  #3b4cc0;\n",
       "            color:  #f1f1f1;\n",
       "        }    #T_6da6b9c2_418c_11eb_b736_88e9fe6e709erow0_col6 {\n",
       "            background-color:  #6f92f3;\n",
       "            color:  #000000;\n",
       "        }    #T_6da6b9c2_418c_11eb_b736_88e9fe6e709erow0_col7 {\n",
       "            background-color:  #485fd1;\n",
       "            color:  #f1f1f1;\n",
       "        }    #T_6da6b9c2_418c_11eb_b736_88e9fe6e709erow0_col8 {\n",
       "            background-color:  #3b4cc0;\n",
       "            color:  #f1f1f1;\n",
       "        }    #T_6da6b9c2_418c_11eb_b736_88e9fe6e709erow0_col9 {\n",
       "            background-color:  #4961d2;\n",
       "            color:  #f1f1f1;\n",
       "        }    #T_6da6b9c2_418c_11eb_b736_88e9fe6e709erow0_col10 {\n",
       "            background-color:  #6485ec;\n",
       "            color:  #000000;\n",
       "        }    #T_6da6b9c2_418c_11eb_b736_88e9fe6e709erow0_col11 {\n",
       "            background-color:  #6180e9;\n",
       "            color:  #000000;\n",
       "        }    #T_6da6b9c2_418c_11eb_b736_88e9fe6e709erow1_col0 {\n",
       "            background-color:  #5875e1;\n",
       "            color:  #000000;\n",
       "        }    #T_6da6b9c2_418c_11eb_b736_88e9fe6e709erow1_col1 {\n",
       "            background-color:  #b40426;\n",
       "            color:  #f1f1f1;\n",
       "        }    #T_6da6b9c2_418c_11eb_b736_88e9fe6e709erow1_col2 {\n",
       "            background-color:  #4c66d6;\n",
       "            color:  #000000;\n",
       "        }    #T_6da6b9c2_418c_11eb_b736_88e9fe6e709erow1_col3 {\n",
       "            background-color:  #a2c1ff;\n",
       "            color:  #000000;\n",
       "        }    #T_6da6b9c2_418c_11eb_b736_88e9fe6e709erow1_col4 {\n",
       "            background-color:  #5875e1;\n",
       "            color:  #000000;\n",
       "        }    #T_6da6b9c2_418c_11eb_b736_88e9fe6e709erow1_col5 {\n",
       "            background-color:  #3b4cc0;\n",
       "            color:  #f1f1f1;\n",
       "        }    #T_6da6b9c2_418c_11eb_b736_88e9fe6e709erow1_col6 {\n",
       "            background-color:  #4b64d5;\n",
       "            color:  #f1f1f1;\n",
       "        }    #T_6da6b9c2_418c_11eb_b736_88e9fe6e709erow1_col7 {\n",
       "            background-color:  #3b4cc0;\n",
       "            color:  #f1f1f1;\n",
       "        }    #T_6da6b9c2_418c_11eb_b736_88e9fe6e709erow1_col8 {\n",
       "            background-color:  #4b64d5;\n",
       "            color:  #f1f1f1;\n",
       "        }    #T_6da6b9c2_418c_11eb_b736_88e9fe6e709erow1_col9 {\n",
       "            background-color:  #d44e41;\n",
       "            color:  #000000;\n",
       "        }    #T_6da6b9c2_418c_11eb_b736_88e9fe6e709erow1_col10 {\n",
       "            background-color:  #6384eb;\n",
       "            color:  #000000;\n",
       "        }    #T_6da6b9c2_418c_11eb_b736_88e9fe6e709erow1_col11 {\n",
       "            background-color:  #6485ec;\n",
       "            color:  #000000;\n",
       "        }    #T_6da6b9c2_418c_11eb_b736_88e9fe6e709erow2_col0 {\n",
       "            background-color:  #485fd1;\n",
       "            color:  #f1f1f1;\n",
       "        }    #T_6da6b9c2_418c_11eb_b736_88e9fe6e709erow2_col1 {\n",
       "            background-color:  #3e51c5;\n",
       "            color:  #f1f1f1;\n",
       "        }    #T_6da6b9c2_418c_11eb_b736_88e9fe6e709erow2_col2 {\n",
       "            background-color:  #b40426;\n",
       "            color:  #f1f1f1;\n",
       "        }    #T_6da6b9c2_418c_11eb_b736_88e9fe6e709erow2_col3 {\n",
       "            background-color:  #3b4cc0;\n",
       "            color:  #f1f1f1;\n",
       "        }    #T_6da6b9c2_418c_11eb_b736_88e9fe6e709erow2_col4 {\n",
       "            background-color:  #3f53c6;\n",
       "            color:  #f1f1f1;\n",
       "        }    #T_6da6b9c2_418c_11eb_b736_88e9fe6e709erow2_col5 {\n",
       "            background-color:  #3b4cc0;\n",
       "            color:  #f1f1f1;\n",
       "        }    #T_6da6b9c2_418c_11eb_b736_88e9fe6e709erow2_col6 {\n",
       "            background-color:  #3b4cc0;\n",
       "            color:  #f1f1f1;\n",
       "        }    #T_6da6b9c2_418c_11eb_b736_88e9fe6e709erow2_col7 {\n",
       "            background-color:  #455cce;\n",
       "            color:  #f1f1f1;\n",
       "        }    #T_6da6b9c2_418c_11eb_b736_88e9fe6e709erow2_col8 {\n",
       "            background-color:  #6384eb;\n",
       "            color:  #000000;\n",
       "        }    #T_6da6b9c2_418c_11eb_b736_88e9fe6e709erow2_col9 {\n",
       "            background-color:  #3b4cc0;\n",
       "            color:  #f1f1f1;\n",
       "        }    #T_6da6b9c2_418c_11eb_b736_88e9fe6e709erow2_col10 {\n",
       "            background-color:  #6384eb;\n",
       "            color:  #000000;\n",
       "        }    #T_6da6b9c2_418c_11eb_b736_88e9fe6e709erow2_col11 {\n",
       "            background-color:  #688aef;\n",
       "            color:  #000000;\n",
       "        }    #T_6da6b9c2_418c_11eb_b736_88e9fe6e709erow3_col0 {\n",
       "            background-color:  #5875e1;\n",
       "            color:  #000000;\n",
       "        }    #T_6da6b9c2_418c_11eb_b736_88e9fe6e709erow3_col1 {\n",
       "            background-color:  #9ebeff;\n",
       "            color:  #000000;\n",
       "        }    #T_6da6b9c2_418c_11eb_b736_88e9fe6e709erow3_col2 {\n",
       "            background-color:  #4358cb;\n",
       "            color:  #f1f1f1;\n",
       "        }    #T_6da6b9c2_418c_11eb_b736_88e9fe6e709erow3_col3 {\n",
       "            background-color:  #b40426;\n",
       "            color:  #f1f1f1;\n",
       "        }    #T_6da6b9c2_418c_11eb_b736_88e9fe6e709erow3_col4 {\n",
       "            background-color:  #adc9fd;\n",
       "            color:  #000000;\n",
       "        }    #T_6da6b9c2_418c_11eb_b736_88e9fe6e709erow3_col5 {\n",
       "            background-color:  #3b4cc0;\n",
       "            color:  #f1f1f1;\n",
       "        }    #T_6da6b9c2_418c_11eb_b736_88e9fe6e709erow3_col6 {\n",
       "            background-color:  #5d7ce6;\n",
       "            color:  #000000;\n",
       "        }    #T_6da6b9c2_418c_11eb_b736_88e9fe6e709erow3_col7 {\n",
       "            background-color:  #3b4cc0;\n",
       "            color:  #f1f1f1;\n",
       "        }    #T_6da6b9c2_418c_11eb_b736_88e9fe6e709erow3_col8 {\n",
       "            background-color:  #5f7fe8;\n",
       "            color:  #000000;\n",
       "        }    #T_6da6b9c2_418c_11eb_b736_88e9fe6e709erow3_col9 {\n",
       "            background-color:  #8fb1fe;\n",
       "            color:  #000000;\n",
       "        }    #T_6da6b9c2_418c_11eb_b736_88e9fe6e709erow3_col10 {\n",
       "            background-color:  #7295f4;\n",
       "            color:  #000000;\n",
       "        }    #T_6da6b9c2_418c_11eb_b736_88e9fe6e709erow3_col11 {\n",
       "            background-color:  #6180e9;\n",
       "            color:  #000000;\n",
       "        }    #T_6da6b9c2_418c_11eb_b736_88e9fe6e709erow4_col0 {\n",
       "            background-color:  #536edd;\n",
       "            color:  #000000;\n",
       "        }    #T_6da6b9c2_418c_11eb_b736_88e9fe6e709erow4_col1 {\n",
       "            background-color:  #5977e3;\n",
       "            color:  #000000;\n",
       "        }    #T_6da6b9c2_418c_11eb_b736_88e9fe6e709erow4_col2 {\n",
       "            background-color:  #4e68d8;\n",
       "            color:  #000000;\n",
       "        }    #T_6da6b9c2_418c_11eb_b736_88e9fe6e709erow4_col3 {\n",
       "            background-color:  #b1cbfc;\n",
       "            color:  #000000;\n",
       "        }    #T_6da6b9c2_418c_11eb_b736_88e9fe6e709erow4_col4 {\n",
       "            background-color:  #b40426;\n",
       "            color:  #f1f1f1;\n",
       "        }    #T_6da6b9c2_418c_11eb_b736_88e9fe6e709erow4_col5 {\n",
       "            background-color:  #3b4cc0;\n",
       "            color:  #f1f1f1;\n",
       "        }    #T_6da6b9c2_418c_11eb_b736_88e9fe6e709erow4_col6 {\n",
       "            background-color:  #516ddb;\n",
       "            color:  #000000;\n",
       "        }    #T_6da6b9c2_418c_11eb_b736_88e9fe6e709erow4_col7 {\n",
       "            background-color:  #3b4cc0;\n",
       "            color:  #f1f1f1;\n",
       "        }    #T_6da6b9c2_418c_11eb_b736_88e9fe6e709erow4_col8 {\n",
       "            background-color:  #5b7ae5;\n",
       "            color:  #000000;\n",
       "        }    #T_6da6b9c2_418c_11eb_b736_88e9fe6e709erow4_col9 {\n",
       "            background-color:  #5470de;\n",
       "            color:  #000000;\n",
       "        }    #T_6da6b9c2_418c_11eb_b736_88e9fe6e709erow4_col10 {\n",
       "            background-color:  #7093f3;\n",
       "            color:  #000000;\n",
       "        }    #T_6da6b9c2_418c_11eb_b736_88e9fe6e709erow4_col11 {\n",
       "            background-color:  #6485ec;\n",
       "            color:  #000000;\n",
       "        }    #T_6da6b9c2_418c_11eb_b736_88e9fe6e709erow5_col0 {\n",
       "            background-color:  #3b4cc0;\n",
       "            color:  #f1f1f1;\n",
       "        }    #T_6da6b9c2_418c_11eb_b736_88e9fe6e709erow5_col1 {\n",
       "            background-color:  #3b4cc0;\n",
       "            color:  #f1f1f1;\n",
       "        }    #T_6da6b9c2_418c_11eb_b736_88e9fe6e709erow5_col2 {\n",
       "            background-color:  #3b4cc0;\n",
       "            color:  #f1f1f1;\n",
       "        }    #T_6da6b9c2_418c_11eb_b736_88e9fe6e709erow5_col3 {\n",
       "            background-color:  #3b4cc0;\n",
       "            color:  #f1f1f1;\n",
       "        }    #T_6da6b9c2_418c_11eb_b736_88e9fe6e709erow5_col4 {\n",
       "            background-color:  #3b4cc0;\n",
       "            color:  #f1f1f1;\n",
       "        }    #T_6da6b9c2_418c_11eb_b736_88e9fe6e709erow5_col5 {\n",
       "            background-color:  #3b4cc0;\n",
       "            color:  #f1f1f1;\n",
       "        }    #T_6da6b9c2_418c_11eb_b736_88e9fe6e709erow5_col6 {\n",
       "            background-color:  #3b4cc0;\n",
       "            color:  #f1f1f1;\n",
       "        }    #T_6da6b9c2_418c_11eb_b736_88e9fe6e709erow5_col7 {\n",
       "            background-color:  #3b4cc0;\n",
       "            color:  #f1f1f1;\n",
       "        }    #T_6da6b9c2_418c_11eb_b736_88e9fe6e709erow5_col8 {\n",
       "            background-color:  #3b4cc0;\n",
       "            color:  #f1f1f1;\n",
       "        }    #T_6da6b9c2_418c_11eb_b736_88e9fe6e709erow5_col9 {\n",
       "            background-color:  #3b4cc0;\n",
       "            color:  #f1f1f1;\n",
       "        }    #T_6da6b9c2_418c_11eb_b736_88e9fe6e709erow5_col10 {\n",
       "            background-color:  #3b4cc0;\n",
       "            color:  #f1f1f1;\n",
       "        }    #T_6da6b9c2_418c_11eb_b736_88e9fe6e709erow5_col11 {\n",
       "            background-color:  #3b4cc0;\n",
       "            color:  #f1f1f1;\n",
       "        }    #T_6da6b9c2_418c_11eb_b736_88e9fe6e709erow6_col0 {\n",
       "            background-color:  #6e90f2;\n",
       "            color:  #000000;\n",
       "        }    #T_6da6b9c2_418c_11eb_b736_88e9fe6e709erow6_col1 {\n",
       "            background-color:  #3e51c5;\n",
       "            color:  #f1f1f1;\n",
       "        }    #T_6da6b9c2_418c_11eb_b736_88e9fe6e709erow6_col2 {\n",
       "            background-color:  #3b4cc0;\n",
       "            color:  #f1f1f1;\n",
       "        }    #T_6da6b9c2_418c_11eb_b736_88e9fe6e709erow6_col3 {\n",
       "            background-color:  #5470de;\n",
       "            color:  #000000;\n",
       "        }    #T_6da6b9c2_418c_11eb_b736_88e9fe6e709erow6_col4 {\n",
       "            background-color:  #4358cb;\n",
       "            color:  #f1f1f1;\n",
       "        }    #T_6da6b9c2_418c_11eb_b736_88e9fe6e709erow6_col5 {\n",
       "            background-color:  #3b4cc0;\n",
       "            color:  #f1f1f1;\n",
       "        }    #T_6da6b9c2_418c_11eb_b736_88e9fe6e709erow6_col6 {\n",
       "            background-color:  #b40426;\n",
       "            color:  #f1f1f1;\n",
       "        }    #T_6da6b9c2_418c_11eb_b736_88e9fe6e709erow6_col7 {\n",
       "            background-color:  #bed2f6;\n",
       "            color:  #000000;\n",
       "        }    #T_6da6b9c2_418c_11eb_b736_88e9fe6e709erow6_col8 {\n",
       "            background-color:  #3b4cc0;\n",
       "            color:  #f1f1f1;\n",
       "        }    #T_6da6b9c2_418c_11eb_b736_88e9fe6e709erow6_col9 {\n",
       "            background-color:  #4257c9;\n",
       "            color:  #f1f1f1;\n",
       "        }    #T_6da6b9c2_418c_11eb_b736_88e9fe6e709erow6_col10 {\n",
       "            background-color:  #6384eb;\n",
       "            color:  #000000;\n",
       "        }    #T_6da6b9c2_418c_11eb_b736_88e9fe6e709erow6_col11 {\n",
       "            background-color:  #5f7fe8;\n",
       "            color:  #000000;\n",
       "        }    #T_6da6b9c2_418c_11eb_b736_88e9fe6e709erow7_col0 {\n",
       "            background-color:  #536edd;\n",
       "            color:  #000000;\n",
       "        }    #T_6da6b9c2_418c_11eb_b736_88e9fe6e709erow7_col1 {\n",
       "            background-color:  #3b4cc0;\n",
       "            color:  #f1f1f1;\n",
       "        }    #T_6da6b9c2_418c_11eb_b736_88e9fe6e709erow7_col2 {\n",
       "            background-color:  #536edd;\n",
       "            color:  #000000;\n",
       "        }    #T_6da6b9c2_418c_11eb_b736_88e9fe6e709erow7_col3 {\n",
       "            background-color:  #3f53c6;\n",
       "            color:  #f1f1f1;\n",
       "        }    #T_6da6b9c2_418c_11eb_b736_88e9fe6e709erow7_col4 {\n",
       "            background-color:  #3b4cc0;\n",
       "            color:  #f1f1f1;\n",
       "        }    #T_6da6b9c2_418c_11eb_b736_88e9fe6e709erow7_col5 {\n",
       "            background-color:  #3b4cc0;\n",
       "            color:  #f1f1f1;\n",
       "        }    #T_6da6b9c2_418c_11eb_b736_88e9fe6e709erow7_col6 {\n",
       "            background-color:  #c6d6f1;\n",
       "            color:  #000000;\n",
       "        }    #T_6da6b9c2_418c_11eb_b736_88e9fe6e709erow7_col7 {\n",
       "            background-color:  #b40426;\n",
       "            color:  #f1f1f1;\n",
       "        }    #T_6da6b9c2_418c_11eb_b736_88e9fe6e709erow7_col8 {\n",
       "            background-color:  #536edd;\n",
       "            color:  #000000;\n",
       "        }    #T_6da6b9c2_418c_11eb_b736_88e9fe6e709erow7_col9 {\n",
       "            background-color:  #3d50c3;\n",
       "            color:  #f1f1f1;\n",
       "        }    #T_6da6b9c2_418c_11eb_b736_88e9fe6e709erow7_col10 {\n",
       "            background-color:  #6180e9;\n",
       "            color:  #000000;\n",
       "        }    #T_6da6b9c2_418c_11eb_b736_88e9fe6e709erow7_col11 {\n",
       "            background-color:  #6384eb;\n",
       "            color:  #000000;\n",
       "        }    #T_6da6b9c2_418c_11eb_b736_88e9fe6e709erow8_col0 {\n",
       "            background-color:  #3b4cc0;\n",
       "            color:  #f1f1f1;\n",
       "        }    #T_6da6b9c2_418c_11eb_b736_88e9fe6e709erow8_col1 {\n",
       "            background-color:  #3e51c5;\n",
       "            color:  #f1f1f1;\n",
       "        }    #T_6da6b9c2_418c_11eb_b736_88e9fe6e709erow8_col2 {\n",
       "            background-color:  #6485ec;\n",
       "            color:  #000000;\n",
       "        }    #T_6da6b9c2_418c_11eb_b736_88e9fe6e709erow8_col3 {\n",
       "            background-color:  #5977e3;\n",
       "            color:  #000000;\n",
       "        }    #T_6da6b9c2_418c_11eb_b736_88e9fe6e709erow8_col4 {\n",
       "            background-color:  #4f69d9;\n",
       "            color:  #000000;\n",
       "        }    #T_6da6b9c2_418c_11eb_b736_88e9fe6e709erow8_col5 {\n",
       "            background-color:  #3b4cc0;\n",
       "            color:  #f1f1f1;\n",
       "        }    #T_6da6b9c2_418c_11eb_b736_88e9fe6e709erow8_col6 {\n",
       "            background-color:  #3d50c3;\n",
       "            color:  #f1f1f1;\n",
       "        }    #T_6da6b9c2_418c_11eb_b736_88e9fe6e709erow8_col7 {\n",
       "            background-color:  #485fd1;\n",
       "            color:  #f1f1f1;\n",
       "        }    #T_6da6b9c2_418c_11eb_b736_88e9fe6e709erow8_col8 {\n",
       "            background-color:  #b40426;\n",
       "            color:  #f1f1f1;\n",
       "        }    #T_6da6b9c2_418c_11eb_b736_88e9fe6e709erow8_col9 {\n",
       "            background-color:  #3e51c5;\n",
       "            color:  #f1f1f1;\n",
       "        }    #T_6da6b9c2_418c_11eb_b736_88e9fe6e709erow8_col10 {\n",
       "            background-color:  #6485ec;\n",
       "            color:  #000000;\n",
       "        }    #T_6da6b9c2_418c_11eb_b736_88e9fe6e709erow8_col11 {\n",
       "            background-color:  #6788ee;\n",
       "            color:  #000000;\n",
       "        }    #T_6da6b9c2_418c_11eb_b736_88e9fe6e709erow9_col0 {\n",
       "            background-color:  #5673e0;\n",
       "            color:  #000000;\n",
       "        }    #T_6da6b9c2_418c_11eb_b736_88e9fe6e709erow9_col1 {\n",
       "            background-color:  #d44e41;\n",
       "            color:  #000000;\n",
       "        }    #T_6da6b9c2_418c_11eb_b736_88e9fe6e709erow9_col2 {\n",
       "            background-color:  #4961d2;\n",
       "            color:  #f1f1f1;\n",
       "        }    #T_6da6b9c2_418c_11eb_b736_88e9fe6e709erow9_col3 {\n",
       "            background-color:  #94b6ff;\n",
       "            color:  #000000;\n",
       "        }    #T_6da6b9c2_418c_11eb_b736_88e9fe6e709erow9_col4 {\n",
       "            background-color:  #5470de;\n",
       "            color:  #000000;\n",
       "        }    #T_6da6b9c2_418c_11eb_b736_88e9fe6e709erow9_col5 {\n",
       "            background-color:  #3b4cc0;\n",
       "            color:  #f1f1f1;\n",
       "        }    #T_6da6b9c2_418c_11eb_b736_88e9fe6e709erow9_col6 {\n",
       "            background-color:  #516ddb;\n",
       "            color:  #000000;\n",
       "        }    #T_6da6b9c2_418c_11eb_b736_88e9fe6e709erow9_col7 {\n",
       "            background-color:  #3e51c5;\n",
       "            color:  #f1f1f1;\n",
       "        }    #T_6da6b9c2_418c_11eb_b736_88e9fe6e709erow9_col8 {\n",
       "            background-color:  #4b64d5;\n",
       "            color:  #f1f1f1;\n",
       "        }    #T_6da6b9c2_418c_11eb_b736_88e9fe6e709erow9_col9 {\n",
       "            background-color:  #b40426;\n",
       "            color:  #f1f1f1;\n",
       "        }    #T_6da6b9c2_418c_11eb_b736_88e9fe6e709erow9_col10 {\n",
       "            background-color:  #6180e9;\n",
       "            color:  #000000;\n",
       "        }    #T_6da6b9c2_418c_11eb_b736_88e9fe6e709erow9_col11 {\n",
       "            background-color:  #6384eb;\n",
       "            color:  #000000;\n",
       "        }    #T_6da6b9c2_418c_11eb_b736_88e9fe6e709erow10_col0 {\n",
       "            background-color:  #506bda;\n",
       "            color:  #000000;\n",
       "        }    #T_6da6b9c2_418c_11eb_b736_88e9fe6e709erow10_col1 {\n",
       "            background-color:  #4358cb;\n",
       "            color:  #f1f1f1;\n",
       "        }    #T_6da6b9c2_418c_11eb_b736_88e9fe6e709erow10_col2 {\n",
       "            background-color:  #506bda;\n",
       "            color:  #000000;\n",
       "        }    #T_6da6b9c2_418c_11eb_b736_88e9fe6e709erow10_col3 {\n",
       "            background-color:  #5875e1;\n",
       "            color:  #000000;\n",
       "        }    #T_6da6b9c2_418c_11eb_b736_88e9fe6e709erow10_col4 {\n",
       "            background-color:  #4f69d9;\n",
       "            color:  #000000;\n",
       "        }    #T_6da6b9c2_418c_11eb_b736_88e9fe6e709erow10_col5 {\n",
       "            background-color:  #3b4cc0;\n",
       "            color:  #f1f1f1;\n",
       "        }    #T_6da6b9c2_418c_11eb_b736_88e9fe6e709erow10_col6 {\n",
       "            background-color:  #506bda;\n",
       "            color:  #000000;\n",
       "        }    #T_6da6b9c2_418c_11eb_b736_88e9fe6e709erow10_col7 {\n",
       "            background-color:  #4055c8;\n",
       "            color:  #f1f1f1;\n",
       "        }    #T_6da6b9c2_418c_11eb_b736_88e9fe6e709erow10_col8 {\n",
       "            background-color:  #506bda;\n",
       "            color:  #000000;\n",
       "        }    #T_6da6b9c2_418c_11eb_b736_88e9fe6e709erow10_col9 {\n",
       "            background-color:  #3f53c6;\n",
       "            color:  #f1f1f1;\n",
       "        }    #T_6da6b9c2_418c_11eb_b736_88e9fe6e709erow10_col10 {\n",
       "            background-color:  #b40426;\n",
       "            color:  #f1f1f1;\n",
       "        }    #T_6da6b9c2_418c_11eb_b736_88e9fe6e709erow10_col11 {\n",
       "            background-color:  #3b4cc0;\n",
       "            color:  #f1f1f1;\n",
       "        }    #T_6da6b9c2_418c_11eb_b736_88e9fe6e709erow11_col0 {\n",
       "            background-color:  #4b64d5;\n",
       "            color:  #f1f1f1;\n",
       "        }    #T_6da6b9c2_418c_11eb_b736_88e9fe6e709erow11_col1 {\n",
       "            background-color:  #445acc;\n",
       "            color:  #f1f1f1;\n",
       "        }    #T_6da6b9c2_418c_11eb_b736_88e9fe6e709erow11_col2 {\n",
       "            background-color:  #5673e0;\n",
       "            color:  #000000;\n",
       "        }    #T_6da6b9c2_418c_11eb_b736_88e9fe6e709erow11_col3 {\n",
       "            background-color:  #455cce;\n",
       "            color:  #f1f1f1;\n",
       "        }    #T_6da6b9c2_418c_11eb_b736_88e9fe6e709erow11_col4 {\n",
       "            background-color:  #4358cb;\n",
       "            color:  #f1f1f1;\n",
       "        }    #T_6da6b9c2_418c_11eb_b736_88e9fe6e709erow11_col5 {\n",
       "            background-color:  #3b4cc0;\n",
       "            color:  #f1f1f1;\n",
       "        }    #T_6da6b9c2_418c_11eb_b736_88e9fe6e709erow11_col6 {\n",
       "            background-color:  #4c66d6;\n",
       "            color:  #000000;\n",
       "        }    #T_6da6b9c2_418c_11eb_b736_88e9fe6e709erow11_col7 {\n",
       "            background-color:  #4358cb;\n",
       "            color:  #f1f1f1;\n",
       "        }    #T_6da6b9c2_418c_11eb_b736_88e9fe6e709erow11_col8 {\n",
       "            background-color:  #536edd;\n",
       "            color:  #000000;\n",
       "        }    #T_6da6b9c2_418c_11eb_b736_88e9fe6e709erow11_col9 {\n",
       "            background-color:  #4257c9;\n",
       "            color:  #f1f1f1;\n",
       "        }    #T_6da6b9c2_418c_11eb_b736_88e9fe6e709erow11_col10 {\n",
       "            background-color:  #3b4cc0;\n",
       "            color:  #f1f1f1;\n",
       "        }    #T_6da6b9c2_418c_11eb_b736_88e9fe6e709erow11_col11 {\n",
       "            background-color:  #b40426;\n",
       "            color:  #f1f1f1;\n",
       "        }</style><table id=\"T_6da6b9c2_418c_11eb_b736_88e9fe6e709e\" ><thead>    <tr>        <th class=\"blank level0\" ></th>        <th class=\"col_heading level0 col0\" >ID</th>        <th class=\"col_heading level0 col1\" >CNT_CHILDREN</th>        <th class=\"col_heading level0 col2\" >AMT_INCOME_TOTAL</th>        <th class=\"col_heading level0 col3\" >DAYS_BIRTH</th>        <th class=\"col_heading level0 col4\" >DAYS_EMPLOYED</th>        <th class=\"col_heading level0 col5\" >FLAG_MOBIL</th>        <th class=\"col_heading level0 col6\" >FLAG_WORK_PHONE</th>        <th class=\"col_heading level0 col7\" >FLAG_PHONE</th>        <th class=\"col_heading level0 col8\" >FLAG_EMAIL</th>        <th class=\"col_heading level0 col9\" >CNT_FAM_MEMBERS</th>        <th class=\"col_heading level0 col10\" >MONTHS_BALANCE</th>        <th class=\"col_heading level0 col11\" >Label</th>    </tr></thead><tbody>\n",
       "                <tr>\n",
       "                        <th id=\"T_6da6b9c2_418c_11eb_b736_88e9fe6e709elevel0_row0\" class=\"row_heading level0 row0\" >ID</th>\n",
       "                        <td id=\"T_6da6b9c2_418c_11eb_b736_88e9fe6e709erow0_col0\" class=\"data row0 col0\" >1.000000</td>\n",
       "                        <td id=\"T_6da6b9c2_418c_11eb_b736_88e9fe6e709erow0_col1\" class=\"data row0 col1\" >0.031586</td>\n",
       "                        <td id=\"T_6da6b9c2_418c_11eb_b736_88e9fe6e709erow0_col2\" class=\"data row0 col2\" >-0.024915</td>\n",
       "                        <td id=\"T_6da6b9c2_418c_11eb_b736_88e9fe6e709erow0_col3\" class=\"data row0 col3\" >0.029609</td>\n",
       "                        <td id=\"T_6da6b9c2_418c_11eb_b736_88e9fe6e709erow0_col4\" class=\"data row0 col4\" >0.014325</td>\n",
       "                        <td id=\"T_6da6b9c2_418c_11eb_b736_88e9fe6e709erow0_col5\" class=\"data row0 col5\" >nan</td>\n",
       "                        <td id=\"T_6da6b9c2_418c_11eb_b736_88e9fe6e709erow0_col6\" class=\"data row0 col6\" >0.098981</td>\n",
       "                        <td id=\"T_6da6b9c2_418c_11eb_b736_88e9fe6e709erow0_col7\" class=\"data row0 col7\" >0.014584</td>\n",
       "                        <td id=\"T_6da6b9c2_418c_11eb_b736_88e9fe6e709erow0_col8\" class=\"data row0 col8\" >-0.072886</td>\n",
       "                        <td id=\"T_6da6b9c2_418c_11eb_b736_88e9fe6e709erow0_col9\" class=\"data row0 col9\" >0.026159</td>\n",
       "                        <td id=\"T_6da6b9c2_418c_11eb_b736_88e9fe6e709erow0_col10\" class=\"data row0 col10\" >0.004673</td>\n",
       "                        <td id=\"T_6da6b9c2_418c_11eb_b736_88e9fe6e709erow0_col11\" class=\"data row0 col11\" >-0.011085</td>\n",
       "            </tr>\n",
       "            <tr>\n",
       "                        <th id=\"T_6da6b9c2_418c_11eb_b736_88e9fe6e709elevel0_row1\" class=\"row_heading level0 row1\" >CNT_CHILDREN</th>\n",
       "                        <td id=\"T_6da6b9c2_418c_11eb_b736_88e9fe6e709erow1_col0\" class=\"data row1 col0\" >0.031586</td>\n",
       "                        <td id=\"T_6da6b9c2_418c_11eb_b736_88e9fe6e709erow1_col1\" class=\"data row1 col1\" >1.000000</td>\n",
       "                        <td id=\"T_6da6b9c2_418c_11eb_b736_88e9fe6e709erow1_col2\" class=\"data row1 col2\" >-0.014309</td>\n",
       "                        <td id=\"T_6da6b9c2_418c_11eb_b736_88e9fe6e709erow1_col3\" class=\"data row1 col3\" >0.277567</td>\n",
       "                        <td id=\"T_6da6b9c2_418c_11eb_b736_88e9fe6e709erow1_col4\" class=\"data row1 col4\" >0.073164</td>\n",
       "                        <td id=\"T_6da6b9c2_418c_11eb_b736_88e9fe6e709erow1_col5\" class=\"data row1 col5\" >nan</td>\n",
       "                        <td id=\"T_6da6b9c2_418c_11eb_b736_88e9fe6e709erow1_col6\" class=\"data row1 col6\" >-0.016432</td>\n",
       "                        <td id=\"T_6da6b9c2_418c_11eb_b736_88e9fe6e709erow1_col7\" class=\"data row1 col7\" >-0.029202</td>\n",
       "                        <td id=\"T_6da6b9c2_418c_11eb_b736_88e9fe6e709erow1_col8\" class=\"data row1 col8\" >-0.013942</td>\n",
       "                        <td id=\"T_6da6b9c2_418c_11eb_b736_88e9fe6e709erow1_col9\" class=\"data row1 col9\" >0.904351</td>\n",
       "                        <td id=\"T_6da6b9c2_418c_11eb_b736_88e9fe6e709erow1_col10\" class=\"data row1 col10\" >-0.000430</td>\n",
       "                        <td id=\"T_6da6b9c2_418c_11eb_b736_88e9fe6e709erow1_col11\" class=\"data row1 col11\" >0.003895</td>\n",
       "            </tr>\n",
       "            <tr>\n",
       "                        <th id=\"T_6da6b9c2_418c_11eb_b736_88e9fe6e709elevel0_row2\" class=\"row_heading level0 row2\" >AMT_INCOME_TOTAL</th>\n",
       "                        <td id=\"T_6da6b9c2_418c_11eb_b736_88e9fe6e709erow2_col0\" class=\"data row2 col0\" >-0.024915</td>\n",
       "                        <td id=\"T_6da6b9c2_418c_11eb_b736_88e9fe6e709erow2_col1\" class=\"data row2 col1\" >-0.014309</td>\n",
       "                        <td id=\"T_6da6b9c2_418c_11eb_b736_88e9fe6e709erow2_col2\" class=\"data row2 col2\" >1.000000</td>\n",
       "                        <td id=\"T_6da6b9c2_418c_11eb_b736_88e9fe6e709erow2_col3\" class=\"data row2 col3\" >-0.047838</td>\n",
       "                        <td id=\"T_6da6b9c2_418c_11eb_b736_88e9fe6e709erow2_col4\" class=\"data row2 col4\" >-0.009500</td>\n",
       "                        <td id=\"T_6da6b9c2_418c_11eb_b736_88e9fe6e709erow2_col5\" class=\"data row2 col5\" >nan</td>\n",
       "                        <td id=\"T_6da6b9c2_418c_11eb_b736_88e9fe6e709erow2_col6\" class=\"data row2 col6\" >-0.078836</td>\n",
       "                        <td id=\"T_6da6b9c2_418c_11eb_b736_88e9fe6e709erow2_col7\" class=\"data row2 col7\" >0.007914</td>\n",
       "                        <td id=\"T_6da6b9c2_418c_11eb_b736_88e9fe6e709erow2_col8\" class=\"data row2 col8\" >0.067699</td>\n",
       "                        <td id=\"T_6da6b9c2_418c_11eb_b736_88e9fe6e709erow2_col9\" class=\"data row2 col9\" >-0.025477</td>\n",
       "                        <td id=\"T_6da6b9c2_418c_11eb_b736_88e9fe6e709erow2_col10\" class=\"data row2 col10\" >-0.001829</td>\n",
       "                        <td id=\"T_6da6b9c2_418c_11eb_b736_88e9fe6e709erow2_col11\" class=\"data row2 col11\" >0.018505</td>\n",
       "            </tr>\n",
       "            <tr>\n",
       "                        <th id=\"T_6da6b9c2_418c_11eb_b736_88e9fe6e709elevel0_row3\" class=\"row_heading level0 row3\" >DAYS_BIRTH</th>\n",
       "                        <td id=\"T_6da6b9c2_418c_11eb_b736_88e9fe6e709erow3_col0\" class=\"data row3 col0\" >0.029609</td>\n",
       "                        <td id=\"T_6da6b9c2_418c_11eb_b736_88e9fe6e709erow3_col1\" class=\"data row3 col1\" >0.277567</td>\n",
       "                        <td id=\"T_6da6b9c2_418c_11eb_b736_88e9fe6e709erow3_col2\" class=\"data row3 col2\" >-0.047838</td>\n",
       "                        <td id=\"T_6da6b9c2_418c_11eb_b736_88e9fe6e709erow3_col3\" class=\"data row3 col3\" >1.000000</td>\n",
       "                        <td id=\"T_6da6b9c2_418c_11eb_b736_88e9fe6e709erow3_col4\" class=\"data row3 col4\" >0.324231</td>\n",
       "                        <td id=\"T_6da6b9c2_418c_11eb_b736_88e9fe6e709erow3_col5\" class=\"data row3 col5\" >nan</td>\n",
       "                        <td id=\"T_6da6b9c2_418c_11eb_b736_88e9fe6e709erow3_col6\" class=\"data row3 col6\" >0.041483</td>\n",
       "                        <td id=\"T_6da6b9c2_418c_11eb_b736_88e9fe6e709erow3_col7\" class=\"data row3 col7\" >-0.030423</td>\n",
       "                        <td id=\"T_6da6b9c2_418c_11eb_b736_88e9fe6e709erow3_col8\" class=\"data row3 col8\" >0.055471</td>\n",
       "                        <td id=\"T_6da6b9c2_418c_11eb_b736_88e9fe6e709erow3_col9\" class=\"data row3 col9\" >0.237472</td>\n",
       "                        <td id=\"T_6da6b9c2_418c_11eb_b736_88e9fe6e709erow3_col10\" class=\"data row3 col10\" >0.051247</td>\n",
       "                        <td id=\"T_6da6b9c2_418c_11eb_b736_88e9fe6e709erow3_col11\" class=\"data row3 col11\" >-0.007858</td>\n",
       "            </tr>\n",
       "            <tr>\n",
       "                        <th id=\"T_6da6b9c2_418c_11eb_b736_88e9fe6e709elevel0_row4\" class=\"row_heading level0 row4\" >DAYS_EMPLOYED</th>\n",
       "                        <td id=\"T_6da6b9c2_418c_11eb_b736_88e9fe6e709erow4_col0\" class=\"data row4 col0\" >0.014325</td>\n",
       "                        <td id=\"T_6da6b9c2_418c_11eb_b736_88e9fe6e709erow4_col1\" class=\"data row4 col1\" >0.073164</td>\n",
       "                        <td id=\"T_6da6b9c2_418c_11eb_b736_88e9fe6e709erow4_col2\" class=\"data row4 col2\" >-0.009500</td>\n",
       "                        <td id=\"T_6da6b9c2_418c_11eb_b736_88e9fe6e709erow4_col3\" class=\"data row4 col3\" >0.324231</td>\n",
       "                        <td id=\"T_6da6b9c2_418c_11eb_b736_88e9fe6e709erow4_col4\" class=\"data row4 col4\" >1.000000</td>\n",
       "                        <td id=\"T_6da6b9c2_418c_11eb_b736_88e9fe6e709erow4_col5\" class=\"data row4 col5\" >nan</td>\n",
       "                        <td id=\"T_6da6b9c2_418c_11eb_b736_88e9fe6e709erow4_col6\" class=\"data row4 col6\" >0.003695</td>\n",
       "                        <td id=\"T_6da6b9c2_418c_11eb_b736_88e9fe6e709erow4_col7\" class=\"data row4 col7\" >-0.026980</td>\n",
       "                        <td id=\"T_6da6b9c2_418c_11eb_b736_88e9fe6e709erow4_col8\" class=\"data row4 col8\" >0.041690</td>\n",
       "                        <td id=\"T_6da6b9c2_418c_11eb_b736_88e9fe6e709erow4_col9\" class=\"data row4 col9\" >0.058954</td>\n",
       "                        <td id=\"T_6da6b9c2_418c_11eb_b736_88e9fe6e709erow4_col10\" class=\"data row4 col10\" >0.044414</td>\n",
       "                        <td id=\"T_6da6b9c2_418c_11eb_b736_88e9fe6e709erow4_col11\" class=\"data row4 col11\" >0.003912</td>\n",
       "            </tr>\n",
       "            <tr>\n",
       "                        <th id=\"T_6da6b9c2_418c_11eb_b736_88e9fe6e709elevel0_row5\" class=\"row_heading level0 row5\" >FLAG_MOBIL</th>\n",
       "                        <td id=\"T_6da6b9c2_418c_11eb_b736_88e9fe6e709erow5_col0\" class=\"data row5 col0\" >nan</td>\n",
       "                        <td id=\"T_6da6b9c2_418c_11eb_b736_88e9fe6e709erow5_col1\" class=\"data row5 col1\" >nan</td>\n",
       "                        <td id=\"T_6da6b9c2_418c_11eb_b736_88e9fe6e709erow5_col2\" class=\"data row5 col2\" >nan</td>\n",
       "                        <td id=\"T_6da6b9c2_418c_11eb_b736_88e9fe6e709erow5_col3\" class=\"data row5 col3\" >nan</td>\n",
       "                        <td id=\"T_6da6b9c2_418c_11eb_b736_88e9fe6e709erow5_col4\" class=\"data row5 col4\" >nan</td>\n",
       "                        <td id=\"T_6da6b9c2_418c_11eb_b736_88e9fe6e709erow5_col5\" class=\"data row5 col5\" >nan</td>\n",
       "                        <td id=\"T_6da6b9c2_418c_11eb_b736_88e9fe6e709erow5_col6\" class=\"data row5 col6\" >nan</td>\n",
       "                        <td id=\"T_6da6b9c2_418c_11eb_b736_88e9fe6e709erow5_col7\" class=\"data row5 col7\" >nan</td>\n",
       "                        <td id=\"T_6da6b9c2_418c_11eb_b736_88e9fe6e709erow5_col8\" class=\"data row5 col8\" >nan</td>\n",
       "                        <td id=\"T_6da6b9c2_418c_11eb_b736_88e9fe6e709erow5_col9\" class=\"data row5 col9\" >nan</td>\n",
       "                        <td id=\"T_6da6b9c2_418c_11eb_b736_88e9fe6e709erow5_col10\" class=\"data row5 col10\" >nan</td>\n",
       "                        <td id=\"T_6da6b9c2_418c_11eb_b736_88e9fe6e709erow5_col11\" class=\"data row5 col11\" >nan</td>\n",
       "            </tr>\n",
       "            <tr>\n",
       "                        <th id=\"T_6da6b9c2_418c_11eb_b736_88e9fe6e709elevel0_row6\" class=\"row_heading level0 row6\" >FLAG_WORK_PHONE</th>\n",
       "                        <td id=\"T_6da6b9c2_418c_11eb_b736_88e9fe6e709erow6_col0\" class=\"data row6 col0\" >0.098981</td>\n",
       "                        <td id=\"T_6da6b9c2_418c_11eb_b736_88e9fe6e709erow6_col1\" class=\"data row6 col1\" >-0.016432</td>\n",
       "                        <td id=\"T_6da6b9c2_418c_11eb_b736_88e9fe6e709erow6_col2\" class=\"data row6 col2\" >-0.078836</td>\n",
       "                        <td id=\"T_6da6b9c2_418c_11eb_b736_88e9fe6e709erow6_col3\" class=\"data row6 col3\" >0.041483</td>\n",
       "                        <td id=\"T_6da6b9c2_418c_11eb_b736_88e9fe6e709erow6_col4\" class=\"data row6 col4\" >0.003695</td>\n",
       "                        <td id=\"T_6da6b9c2_418c_11eb_b736_88e9fe6e709erow6_col5\" class=\"data row6 col5\" >nan</td>\n",
       "                        <td id=\"T_6da6b9c2_418c_11eb_b736_88e9fe6e709erow6_col6\" class=\"data row6 col6\" >1.000000</td>\n",
       "                        <td id=\"T_6da6b9c2_418c_11eb_b736_88e9fe6e709erow6_col7\" class=\"data row6 col7\" >0.372385</td>\n",
       "                        <td id=\"T_6da6b9c2_418c_11eb_b736_88e9fe6e709erow6_col8\" class=\"data row6 col8\" >-0.069643</td>\n",
       "                        <td id=\"T_6da6b9c2_418c_11eb_b736_88e9fe6e709erow6_col9\" class=\"data row6 col9\" >0.001964</td>\n",
       "                        <td id=\"T_6da6b9c2_418c_11eb_b736_88e9fe6e709erow6_col10\" class=\"data row6 col10\" >-0.002339</td>\n",
       "                        <td id=\"T_6da6b9c2_418c_11eb_b736_88e9fe6e709erow6_col11\" class=\"data row6 col11\" >-0.012290</td>\n",
       "            </tr>\n",
       "            <tr>\n",
       "                        <th id=\"T_6da6b9c2_418c_11eb_b736_88e9fe6e709elevel0_row7\" class=\"row_heading level0 row7\" >FLAG_PHONE</th>\n",
       "                        <td id=\"T_6da6b9c2_418c_11eb_b736_88e9fe6e709erow7_col0\" class=\"data row7 col0\" >0.014584</td>\n",
       "                        <td id=\"T_6da6b9c2_418c_11eb_b736_88e9fe6e709erow7_col1\" class=\"data row7 col1\" >-0.029202</td>\n",
       "                        <td id=\"T_6da6b9c2_418c_11eb_b736_88e9fe6e709erow7_col2\" class=\"data row7 col2\" >0.007914</td>\n",
       "                        <td id=\"T_6da6b9c2_418c_11eb_b736_88e9fe6e709erow7_col3\" class=\"data row7 col3\" >-0.030423</td>\n",
       "                        <td id=\"T_6da6b9c2_418c_11eb_b736_88e9fe6e709erow7_col4\" class=\"data row7 col4\" >-0.026980</td>\n",
       "                        <td id=\"T_6da6b9c2_418c_11eb_b736_88e9fe6e709erow7_col5\" class=\"data row7 col5\" >nan</td>\n",
       "                        <td id=\"T_6da6b9c2_418c_11eb_b736_88e9fe6e709erow7_col6\" class=\"data row7 col6\" >0.372385</td>\n",
       "                        <td id=\"T_6da6b9c2_418c_11eb_b736_88e9fe6e709erow7_col7\" class=\"data row7 col7\" >1.000000</td>\n",
       "                        <td id=\"T_6da6b9c2_418c_11eb_b736_88e9fe6e709erow7_col8\" class=\"data row7 col8\" >0.014056</td>\n",
       "                        <td id=\"T_6da6b9c2_418c_11eb_b736_88e9fe6e709erow7_col9\" class=\"data row7 col9\" >-0.015966</td>\n",
       "                        <td id=\"T_6da6b9c2_418c_11eb_b736_88e9fe6e709erow7_col10\" class=\"data row7 col10\" >-0.007564</td>\n",
       "                        <td id=\"T_6da6b9c2_418c_11eb_b736_88e9fe6e709erow7_col11\" class=\"data row7 col11\" >0.000935</td>\n",
       "            </tr>\n",
       "            <tr>\n",
       "                        <th id=\"T_6da6b9c2_418c_11eb_b736_88e9fe6e709elevel0_row8\" class=\"row_heading level0 row8\" >FLAG_EMAIL</th>\n",
       "                        <td id=\"T_6da6b9c2_418c_11eb_b736_88e9fe6e709erow8_col0\" class=\"data row8 col0\" >-0.072886</td>\n",
       "                        <td id=\"T_6da6b9c2_418c_11eb_b736_88e9fe6e709erow8_col1\" class=\"data row8 col1\" >-0.013942</td>\n",
       "                        <td id=\"T_6da6b9c2_418c_11eb_b736_88e9fe6e709erow8_col2\" class=\"data row8 col2\" >0.067699</td>\n",
       "                        <td id=\"T_6da6b9c2_418c_11eb_b736_88e9fe6e709erow8_col3\" class=\"data row8 col3\" >0.055471</td>\n",
       "                        <td id=\"T_6da6b9c2_418c_11eb_b736_88e9fe6e709erow8_col4\" class=\"data row8 col4\" >0.041690</td>\n",
       "                        <td id=\"T_6da6b9c2_418c_11eb_b736_88e9fe6e709erow8_col5\" class=\"data row8 col5\" >nan</td>\n",
       "                        <td id=\"T_6da6b9c2_418c_11eb_b736_88e9fe6e709erow8_col6\" class=\"data row8 col6\" >-0.069643</td>\n",
       "                        <td id=\"T_6da6b9c2_418c_11eb_b736_88e9fe6e709erow8_col7\" class=\"data row8 col7\" >0.014056</td>\n",
       "                        <td id=\"T_6da6b9c2_418c_11eb_b736_88e9fe6e709erow8_col8\" class=\"data row8 col8\" >1.000000</td>\n",
       "                        <td id=\"T_6da6b9c2_418c_11eb_b736_88e9fe6e709erow8_col9\" class=\"data row8 col9\" >-0.012525</td>\n",
       "                        <td id=\"T_6da6b9c2_418c_11eb_b736_88e9fe6e709erow8_col10\" class=\"data row8 col10\" >0.005860</td>\n",
       "                        <td id=\"T_6da6b9c2_418c_11eb_b736_88e9fe6e709erow8_col11\" class=\"data row8 col11\" >0.015066</td>\n",
       "            </tr>\n",
       "            <tr>\n",
       "                        <th id=\"T_6da6b9c2_418c_11eb_b736_88e9fe6e709elevel0_row9\" class=\"row_heading level0 row9\" >CNT_FAM_MEMBERS</th>\n",
       "                        <td id=\"T_6da6b9c2_418c_11eb_b736_88e9fe6e709erow9_col0\" class=\"data row9 col0\" >0.026159</td>\n",
       "                        <td id=\"T_6da6b9c2_418c_11eb_b736_88e9fe6e709erow9_col1\" class=\"data row9 col1\" >0.904351</td>\n",
       "                        <td id=\"T_6da6b9c2_418c_11eb_b736_88e9fe6e709erow9_col2\" class=\"data row9 col2\" >-0.025477</td>\n",
       "                        <td id=\"T_6da6b9c2_418c_11eb_b736_88e9fe6e709erow9_col3\" class=\"data row9 col3\" >0.237472</td>\n",
       "                        <td id=\"T_6da6b9c2_418c_11eb_b736_88e9fe6e709erow9_col4\" class=\"data row9 col4\" >0.058954</td>\n",
       "                        <td id=\"T_6da6b9c2_418c_11eb_b736_88e9fe6e709erow9_col5\" class=\"data row9 col5\" >nan</td>\n",
       "                        <td id=\"T_6da6b9c2_418c_11eb_b736_88e9fe6e709erow9_col6\" class=\"data row9 col6\" >0.001964</td>\n",
       "                        <td id=\"T_6da6b9c2_418c_11eb_b736_88e9fe6e709erow9_col7\" class=\"data row9 col7\" >-0.015966</td>\n",
       "                        <td id=\"T_6da6b9c2_418c_11eb_b736_88e9fe6e709erow9_col8\" class=\"data row9 col8\" >-0.012525</td>\n",
       "                        <td id=\"T_6da6b9c2_418c_11eb_b736_88e9fe6e709erow9_col9\" class=\"data row9 col9\" >1.000000</td>\n",
       "                        <td id=\"T_6da6b9c2_418c_11eb_b736_88e9fe6e709erow9_col10\" class=\"data row9 col10\" >-0.008847</td>\n",
       "                        <td id=\"T_6da6b9c2_418c_11eb_b736_88e9fe6e709erow9_col11\" class=\"data row9 col11\" >-0.001249</td>\n",
       "            </tr>\n",
       "            <tr>\n",
       "                        <th id=\"T_6da6b9c2_418c_11eb_b736_88e9fe6e709elevel0_row10\" class=\"row_heading level0 row10\" >MONTHS_BALANCE</th>\n",
       "                        <td id=\"T_6da6b9c2_418c_11eb_b736_88e9fe6e709erow10_col0\" class=\"data row10 col0\" >0.004673</td>\n",
       "                        <td id=\"T_6da6b9c2_418c_11eb_b736_88e9fe6e709erow10_col1\" class=\"data row10 col1\" >-0.000430</td>\n",
       "                        <td id=\"T_6da6b9c2_418c_11eb_b736_88e9fe6e709erow10_col2\" class=\"data row10 col2\" >-0.001829</td>\n",
       "                        <td id=\"T_6da6b9c2_418c_11eb_b736_88e9fe6e709erow10_col3\" class=\"data row10 col3\" >0.051247</td>\n",
       "                        <td id=\"T_6da6b9c2_418c_11eb_b736_88e9fe6e709erow10_col4\" class=\"data row10 col4\" >0.044414</td>\n",
       "                        <td id=\"T_6da6b9c2_418c_11eb_b736_88e9fe6e709erow10_col5\" class=\"data row10 col5\" >nan</td>\n",
       "                        <td id=\"T_6da6b9c2_418c_11eb_b736_88e9fe6e709erow10_col6\" class=\"data row10 col6\" >-0.002339</td>\n",
       "                        <td id=\"T_6da6b9c2_418c_11eb_b736_88e9fe6e709erow10_col7\" class=\"data row10 col7\" >-0.007564</td>\n",
       "                        <td id=\"T_6da6b9c2_418c_11eb_b736_88e9fe6e709erow10_col8\" class=\"data row10 col8\" >0.005860</td>\n",
       "                        <td id=\"T_6da6b9c2_418c_11eb_b736_88e9fe6e709erow10_col9\" class=\"data row10 col9\" >-0.008847</td>\n",
       "                        <td id=\"T_6da6b9c2_418c_11eb_b736_88e9fe6e709erow10_col10\" class=\"data row10 col10\" >1.000000</td>\n",
       "                        <td id=\"T_6da6b9c2_418c_11eb_b736_88e9fe6e709erow10_col11\" class=\"data row10 col11\" >-0.150743</td>\n",
       "            </tr>\n",
       "            <tr>\n",
       "                        <th id=\"T_6da6b9c2_418c_11eb_b736_88e9fe6e709elevel0_row11\" class=\"row_heading level0 row11\" >Label</th>\n",
       "                        <td id=\"T_6da6b9c2_418c_11eb_b736_88e9fe6e709erow11_col0\" class=\"data row11 col0\" >-0.011085</td>\n",
       "                        <td id=\"T_6da6b9c2_418c_11eb_b736_88e9fe6e709erow11_col1\" class=\"data row11 col1\" >0.003895</td>\n",
       "                        <td id=\"T_6da6b9c2_418c_11eb_b736_88e9fe6e709erow11_col2\" class=\"data row11 col2\" >0.018505</td>\n",
       "                        <td id=\"T_6da6b9c2_418c_11eb_b736_88e9fe6e709erow11_col3\" class=\"data row11 col3\" >-0.007858</td>\n",
       "                        <td id=\"T_6da6b9c2_418c_11eb_b736_88e9fe6e709erow11_col4\" class=\"data row11 col4\" >0.003912</td>\n",
       "                        <td id=\"T_6da6b9c2_418c_11eb_b736_88e9fe6e709erow11_col5\" class=\"data row11 col5\" >nan</td>\n",
       "                        <td id=\"T_6da6b9c2_418c_11eb_b736_88e9fe6e709erow11_col6\" class=\"data row11 col6\" >-0.012290</td>\n",
       "                        <td id=\"T_6da6b9c2_418c_11eb_b736_88e9fe6e709erow11_col7\" class=\"data row11 col7\" >0.000935</td>\n",
       "                        <td id=\"T_6da6b9c2_418c_11eb_b736_88e9fe6e709erow11_col8\" class=\"data row11 col8\" >0.015066</td>\n",
       "                        <td id=\"T_6da6b9c2_418c_11eb_b736_88e9fe6e709erow11_col9\" class=\"data row11 col9\" >-0.001249</td>\n",
       "                        <td id=\"T_6da6b9c2_418c_11eb_b736_88e9fe6e709erow11_col10\" class=\"data row11 col10\" >-0.150743</td>\n",
       "                        <td id=\"T_6da6b9c2_418c_11eb_b736_88e9fe6e709erow11_col11\" class=\"data row11 col11\" >1.000000</td>\n",
       "            </tr>\n",
       "    </tbody></table>"
      ],
      "text/plain": [
       "<pandas.io.formats.style.Styler at 0x7f86eb2dd850>"
      ]
     },
     "execution_count": 28,
     "metadata": {},
     "output_type": "execute_result"
    }
   ],
   "source": [
    "corr = df.corr()\n",
    "corr.style.background_gradient(cmap='coolwarm')"
   ]
  },
  {
   "cell_type": "code",
   "execution_count": 29,
   "metadata": {
    "colab": {
     "base_uri": "https://localhost:8080/",
     "height": 705
    },
    "id": "EttX6U8pW3dq",
    "outputId": "b5837c3f-c981-41ee-8ad0-0bfe39c1432b"
   },
   "outputs": [
    {
     "data": {
      "text/plain": [
       "<matplotlib.axes._subplots.AxesSubplot at 0x7f86ee983c10>"
      ]
     },
     "execution_count": 29,
     "metadata": {},
     "output_type": "execute_result"
    },
    {
     "data": {
      "image/png": "[encoded data removed]",
      "text/plain": [
       "<Figure size 864x720 with 2 Axes>"
      ]
     },
     "metadata": {
      "needs_background": "light"
     },
     "output_type": "display_data"
    }
   ],
   "source": [
    "#Using Pearson Correlation\n",
    "plt.figure(figsize=(12,10))\n",
    "\n",
    "corr = df[['CNT_CHILDREN', 'AMT_INCOME_TOTAL', 'DAYS_BIRTH', 'DAYS_EMPLOYED', 'CNT_FAM_MEMBERS','Label']].corr()\n",
    "sns.heatmap(corr, \n",
    "        xticklabels=corr.columns,\n",
    "        yticklabels=corr.columns,\n",
    "        annot=True, cmap=plt.cm.Reds)"
   ]
  },
  {
   "cell_type": "code",
   "execution_count": 30,
   "metadata": {
    "id": "XqsLCHS3bHes"
   },
   "outputs": [],
   "source": [
    "from sklearn.preprocessing import LabelEncoder\n",
    "label_encoder = LabelEncoder()\n",
    "df['CODE_GENDER']= label_encoder.fit_transform(df['CODE_GENDER']) \n",
    "df['FLAG_OWN_CAR']= label_encoder.fit_transform(df['FLAG_OWN_CAR']) \n",
    "df['FLAG_OWN_REALTY']= label_encoder.fit_transform(df['FLAG_OWN_REALTY']) \n",
    "df['NAME_INCOME_TYPE']= label_encoder.fit_transform(df['NAME_INCOME_TYPE']) \n",
    "df['NAME_EDUCATION_TYPE']= label_encoder.fit_transform(df['NAME_EDUCATION_TYPE']) \n",
    "df['NAME_FAMILY_STATUS']= label_encoder.fit_transform(df['NAME_FAMILY_STATUS']) \n",
    "df['NAME_HOUSING_TYPE']= label_encoder.fit_transform(df['NAME_HOUSING_TYPE']) \n",
    "df['OCCUPATION_TYPE']= label_encoder.fit_transform(df['OCCUPATION_TYPE']) \n",
    "df['RISK']= label_encoder.fit_transform(df['RISK']) "
   ]
  },
  {
   "cell_type": "code",
   "execution_count": 31,
   "metadata": {
    "id": "BcK4V2TmXGxl"
   },
   "outputs": [],
   "source": [
    "from sklearn.model_selection import train_test_split\n",
    "\n",
    "# Features - exclude ID and Label columns\n",
    "X = df.drop(columns=['ID', 'Label'])\n",
    "# Label - select only label column\n",
    "y = df['Label']\n",
    "\n",
    "X_train, X_test, y_train, y_test = train_test_split(X, y, test_size=0.2, random_state=557)"
   ]
  },
  {
   "cell_type": "code",
   "execution_count": 32,
   "metadata": {
    "colab": {
     "base_uri": "https://localhost:8080/"
    },
    "id": "LImxpXBLeTN5",
    "outputId": "74e38f8a-74f1-48ae-fce3-09b3a478d5dd"
   },
   "outputs": [
    {
     "data": {
      "text/plain": [
       "LogisticRegression(C=1.0, class_weight=None, dual=False, fit_intercept=True,\n",
       "                   intercept_scaling=1, l1_ratio=None, max_iter=100,\n",
       "                   multi_class='auto', n_jobs=None, penalty='l2',\n",
       "                   random_state=None, solver='lbfgs', tol=0.0001, verbose=0,\n",
       "                   warm_start=False)"
      ]
     },
     "execution_count": 32,
     "metadata": {},
     "output_type": "execute_result"
    }
   ],
   "source": [
    "lr = LogisticRegression()\n",
    "lr.fit(X_train,y_train)"
   ]
  },
  {
   "cell_type": "code",
   "execution_count": 33,
   "metadata": {
    "colab": {
     "base_uri": "https://localhost:8080/"
    },
    "id": "XWj-gupieZbo",
    "outputId": "595ca4f1-3d20-45ef-9597-a285af24f090"
   },
   "outputs": [
    {
     "data": {
      "text/plain": [
       "0.6187252403890863"
      ]
     },
     "execution_count": 33,
     "metadata": {},
     "output_type": "execute_result"
    }
   ],
   "source": [
    "y_pred = lr.predict(X_test)\n",
    "\n",
    "accuracy_score(y_pred, y_test)"
   ]
  },
  {
   "cell_type": "code",
   "execution_count": 34,
   "metadata": {
    "colab": {
     "base_uri": "https://localhost:8080/"
    },
    "id": "w2ygmeJQd5d9",
    "outputId": "554b7c00-6b88-4dab-b7ac-f83c2b64688e"
   },
   "outputs": [
    {
     "data": {
      "text/plain": [
       "RandomForestClassifier(bootstrap=True, ccp_alpha=0.0, class_weight=None,\n",
       "                       criterion='gini', max_depth=10, max_features='auto',\n",
       "                       max_leaf_nodes=None, max_samples=None,\n",
       "                       min_impurity_decrease=0.0, min_impurity_split=None,\n",
       "                       min_samples_leaf=1, min_samples_split=2,\n",
       "                       min_weight_fraction_leaf=0.0, n_estimators=100,\n",
       "                       n_jobs=None, oob_score=False, random_state=42, verbose=0,\n",
       "                       warm_start=False)"
      ]
     },
     "execution_count": 34,
     "metadata": {},
     "output_type": "execute_result"
    }
   ],
   "source": [
    "rf = RandomForestClassifier(n_estimators=100, max_depth=10, random_state=42)\n",
    "rf.fit(X_train,y_train)"
   ]
  },
  {
   "cell_type": "code",
   "execution_count": 35,
   "metadata": {
    "colab": {
     "base_uri": "https://localhost:8080/"
    },
    "id": "AD9bad-XeNCa",
    "outputId": "09724878-2702-476f-bccc-3ea6404a2c02"
   },
   "outputs": [
    {
     "data": {
      "text/plain": [
       "0.6498595792958506"
      ]
     },
     "execution_count": 35,
     "metadata": {},
     "output_type": "execute_result"
    }
   ],
   "source": [
    "y_pred = rf.predict(X_test)\n",
    "\n",
    "accuracy_score(y_pred, y_test)"
   ]
  },
  {
   "cell_type": "code",
   "execution_count": 36,
   "metadata": {
    "colab": {
     "base_uri": "https://localhost:8080/"
    },
    "id": "AzFE1Hpqvd9-",
    "outputId": "cab4935f-018f-40a9-b5be-0b38eca51d9a"
   },
   "outputs": [
    {
     "data": {
      "text/plain": [
       "MONTHS_BALANCE         0.428030\n",
       "DAYS_BIRTH             0.117989\n",
       "DAYS_EMPLOYED          0.112627\n",
       "AMT_INCOME_TOTAL       0.078394\n",
       "OCCUPATION_TYPE        0.044202\n",
       "RISK                   0.034494\n",
       "CNT_FAM_MEMBERS        0.022076\n",
       "NAME_FAMILY_STATUS     0.021780\n",
       "NAME_EDUCATION_TYPE    0.021732\n",
       "NAME_INCOME_TYPE       0.018884\n",
       "CNT_CHILDREN           0.017936\n",
       "NAME_HOUSING_TYPE      0.016575\n",
       "FLAG_OWN_CAR           0.011973\n",
       "FLAG_PHONE             0.011481\n",
       "FLAG_OWN_REALTY        0.011091\n",
       "FLAG_EMAIL             0.010408\n",
       "CODE_GENDER            0.010308\n",
       "FLAG_WORK_PHONE        0.010020\n",
       "FLAG_MOBIL             0.000000\n",
       "dtype: float64"
      ]
     },
     "execution_count": 36,
     "metadata": {},
     "output_type": "execute_result"
    }
   ],
   "source": [
    "important_features = pd.Series(data=rf.feature_importances_,index=X_train.columns)\n",
    "important_features.sort_values(ascending=False,inplace=True)\n",
    "important_features"
   ]
  },
  {
   "cell_type": "code",
   "execution_count": 37,
   "metadata": {
    "id": "hzIkcezeY5Qw"
   },
   "outputs": [],
   "source": [
    " creditxgb = XGBClassifier(\n",
    "learning_rate =0.1,\n",
    " n_estimators=100,\n",
    " max_depth=5,\n",
    " min_child_weight=50,\n",
    " gamma=0,\n",
    " subsample=0.8,\n",
    " colsample_bytree=0.8,\n",
    " objective= 'binary:logistic'\n",
    ")"
   ]
  },
  {
   "cell_type": "code",
   "execution_count": 38,
   "metadata": {
    "colab": {
     "base_uri": "https://localhost:8080/"
    },
    "id": "ph9awsVDY89J",
    "outputId": "683a4c51-c133-42a9-e9f0-ebcaafe69bc4"
   },
   "outputs": [
    {
     "data": {
      "text/plain": [
       "XGBClassifier(base_score=0.5, booster='gbtree', colsample_bylevel=1,\n",
       "              colsample_bynode=1, colsample_bytree=0.8, gamma=0,\n",
       "              learning_rate=0.1, max_delta_step=0, max_depth=5,\n",
       "              min_child_weight=50, missing=None, n_estimators=100, n_jobs=1,\n",
       "              nthread=None, objective='binary:logistic', random_state=0,\n",
       "              reg_alpha=0, reg_lambda=1, scale_pos_weight=1, seed=None,\n",
       "              silent=None, subsample=0.8, verbosity=1)"
      ]
     },
     "execution_count": 38,
     "metadata": {},
     "output_type": "execute_result"
    }
   ],
   "source": [
    "creditxgb.fit(X_train,y_train)"
   ]
  },
  {
   "cell_type": "code",
   "execution_count": 39,
   "metadata": {
    "colab": {
     "base_uri": "https://localhost:8080/"
    },
    "id": "9b-1X72qZHir",
    "outputId": "0fa14b1e-ede2-430e-f873-8f4a5617a222"
   },
   "outputs": [
    {
     "data": {
      "text/plain": [
       "0.6500176688303234"
      ]
     },
     "execution_count": 39,
     "metadata": {},
     "output_type": "execute_result"
    }
   ],
   "source": [
    "y_pred = creditxgb.predict(X_test)\n",
    "\n",
    "accuracy_score(y_pred, y_test)"
   ]
  },
  {
   "cell_type": "code",
   "execution_count": 43,
   "metadata": {
    "id": "0wHCmHUcezdH"
   },
   "outputs": [],
   "source": [
    "from sklearn.model_selection import GridSearchCV\n",
    "# Create the parameter grid based on the results of random search \n",
    "param_grid = {\n",
    "    'bootstrap': [True],\n",
    "    'max_depth': [50, 80, 100],\n",
    "    'max_features': [2, 3],\n",
    "    'min_samples_leaf': [3, 4, 5],\n",
    "    'min_samples_split': [8, 10, 12],\n",
    "    'n_estimators': [100, 200, 300]\n",
    "}\n",
    "# Create a based model\n",
    "rf = RandomForestClassifier()\n",
    "# Instantiate the grid search model\n",
    "grid_search = GridSearchCV(estimator = rf, param_grid = param_grid, \n",
    "                          cv = 3, n_jobs = -1, verbose = 2)"
   ]
  },
  {
   "cell_type": "code",
   "execution_count": 44,
   "metadata": {
    "colab": {
     "base_uri": "https://localhost:8080/"
    },
    "id": "zZfwx2JVfPEb",
    "outputId": "77ca53c3-b0ff-4bc8-86b8-6cd8a8180762"
   },
   "outputs": [
    {
     "name": "stdout",
     "output_type": "stream",
     "text": [
      "Fitting 3 folds for each of 162 candidates, totalling 486 fits\n"
     ]
    },
    {
     "name": "stderr",
     "output_type": "stream",
     "text": [
      "[Parallel(n_jobs=-1)]: Using backend LokyBackend with 4 concurrent workers.\n"
     ]
    },
    {
     "ename": "KeyboardInterrupt",
     "evalue": "",
     "output_type": "error",
     "traceback": [
      "\u001b[0;31m---------------------------------------------------------------------------\u001b[0m",
      "\u001b[0;31mKeyboardInterrupt\u001b[0m                         Traceback (most recent call last)",
      "\u001b[0;32m<ipython-input-44-5d69430679e6>\u001b[0m in \u001b[0;36m<module>\u001b[0;34m\u001b[0m\n\u001b[1;32m      1\u001b[0m \u001b[0;31m# Fit the grid search to the data\u001b[0m\u001b[0;34m\u001b[0m\u001b[0;34m\u001b[0m\u001b[0;34m\u001b[0m\u001b[0m\n\u001b[0;32m----> 2\u001b[0;31m \u001b[0mgrid_search\u001b[0m\u001b[0;34m.\u001b[0m\u001b[0mfit\u001b[0m\u001b[0;34m(\u001b[0m\u001b[0mX_train\u001b[0m\u001b[0;34m,\u001b[0m \u001b[0my_train\u001b[0m\u001b[0;34m)\u001b[0m\u001b[0;34m\u001b[0m\u001b[0;34m\u001b[0m\u001b[0m\n\u001b[0m\u001b[1;32m      3\u001b[0m \u001b[0mgrid_search\u001b[0m\u001b[0;34m.\u001b[0m\u001b[0mbest_params_\u001b[0m\u001b[0;34m\u001b[0m\u001b[0;34m\u001b[0m\u001b[0m\n",
      "\u001b[0;32m~/anaconda3/lib/python3.7/site-packages/sklearn/model_selection/_search.py\u001b[0m in \u001b[0;36mfit\u001b[0;34m(self, X, y, groups, **fit_params)\u001b[0m\n\u001b[1;32m    708\u001b[0m                 \u001b[0;32mreturn\u001b[0m \u001b[0mresults\u001b[0m\u001b[0;34m\u001b[0m\u001b[0;34m\u001b[0m\u001b[0m\n\u001b[1;32m    709\u001b[0m \u001b[0;34m\u001b[0m\u001b[0m\n\u001b[0;32m--> 710\u001b[0;31m             \u001b[0mself\u001b[0m\u001b[0;34m.\u001b[0m\u001b[0m_run_search\u001b[0m\u001b[0;34m(\u001b[0m\u001b[0mevaluate_candidates\u001b[0m\u001b[0;34m)\u001b[0m\u001b[0;34m\u001b[0m\u001b[0;34m\u001b[0m\u001b[0m\n\u001b[0m\u001b[1;32m    711\u001b[0m \u001b[0;34m\u001b[0m\u001b[0m\n\u001b[1;32m    712\u001b[0m         \u001b[0;31m# For multi-metric evaluation, store the best_index_, best_params_ and\u001b[0m\u001b[0;34m\u001b[0m\u001b[0;34m\u001b[0m\u001b[0;34m\u001b[0m\u001b[0m\n",
      "\u001b[0;32m~/anaconda3/lib/python3.7/site-packages/sklearn/model_selection/_search.py\u001b[0m in \u001b[0;36m_run_search\u001b[0;34m(self, evaluate_candidates)\u001b[0m\n\u001b[1;32m   1149\u001b[0m     \u001b[0;32mdef\u001b[0m \u001b[0m_run_search\u001b[0m\u001b[0;34m(\u001b[0m\u001b[0mself\u001b[0m\u001b[0;34m,\u001b[0m \u001b[0mevaluate_candidates\u001b[0m\u001b[0;34m)\u001b[0m\u001b[0;34m:\u001b[0m\u001b[0;34m\u001b[0m\u001b[0;34m\u001b[0m\u001b[0m\n\u001b[1;32m   1150\u001b[0m         \u001b[0;34m\"\"\"Search all candidates in param_grid\"\"\"\u001b[0m\u001b[0;34m\u001b[0m\u001b[0;34m\u001b[0m\u001b[0m\n\u001b[0;32m-> 1151\u001b[0;31m         \u001b[0mevaluate_candidates\u001b[0m\u001b[0;34m(\u001b[0m\u001b[0mParameterGrid\u001b[0m\u001b[0;34m(\u001b[0m\u001b[0mself\u001b[0m\u001b[0;34m.\u001b[0m\u001b[0mparam_grid\u001b[0m\u001b[0;34m)\u001b[0m\u001b[0;34m)\u001b[0m\u001b[0;34m\u001b[0m\u001b[0;34m\u001b[0m\u001b[0m\n\u001b[0m\u001b[1;32m   1152\u001b[0m \u001b[0;34m\u001b[0m\u001b[0m\n\u001b[1;32m   1153\u001b[0m \u001b[0;34m\u001b[0m\u001b[0m\n",
      "\u001b[0;32m~/anaconda3/lib/python3.7/site-packages/sklearn/model_selection/_search.py\u001b[0m in \u001b[0;36mevaluate_candidates\u001b[0;34m(candidate_params)\u001b[0m\n\u001b[1;32m    687\u001b[0m                                \u001b[0;32mfor\u001b[0m \u001b[0mparameters\u001b[0m\u001b[0;34m,\u001b[0m \u001b[0;34m(\u001b[0m\u001b[0mtrain\u001b[0m\u001b[0;34m,\u001b[0m \u001b[0mtest\u001b[0m\u001b[0;34m)\u001b[0m\u001b[0;34m\u001b[0m\u001b[0;34m\u001b[0m\u001b[0m\n\u001b[1;32m    688\u001b[0m                                in product(candidate_params,\n\u001b[0;32m--> 689\u001b[0;31m                                           cv.split(X, y, groups)))\n\u001b[0m\u001b[1;32m    690\u001b[0m \u001b[0;34m\u001b[0m\u001b[0m\n\u001b[1;32m    691\u001b[0m                 \u001b[0;32mif\u001b[0m \u001b[0mlen\u001b[0m\u001b[0;34m(\u001b[0m\u001b[0mout\u001b[0m\u001b[0;34m)\u001b[0m \u001b[0;34m<\u001b[0m \u001b[0;36m1\u001b[0m\u001b[0;34m:\u001b[0m\u001b[0;34m\u001b[0m\u001b[0;34m\u001b[0m\u001b[0m\n",
      "\u001b[0;32m~/anaconda3/lib/python3.7/site-packages/joblib/parallel.py\u001b[0m in \u001b[0;36m__call__\u001b[0;34m(self, iterable)\u001b[0m\n\u001b[1;32m   1015\u001b[0m \u001b[0;34m\u001b[0m\u001b[0m\n\u001b[1;32m   1016\u001b[0m             \u001b[0;32mwith\u001b[0m \u001b[0mself\u001b[0m\u001b[0;34m.\u001b[0m\u001b[0m_backend\u001b[0m\u001b[0;34m.\u001b[0m\u001b[0mretrieval_context\u001b[0m\u001b[0;34m(\u001b[0m\u001b[0;34m)\u001b[0m\u001b[0;34m:\u001b[0m\u001b[0;34m\u001b[0m\u001b[0;34m\u001b[0m\u001b[0m\n\u001b[0;32m-> 1017\u001b[0;31m                 \u001b[0mself\u001b[0m\u001b[0;34m.\u001b[0m\u001b[0mretrieve\u001b[0m\u001b[0;34m(\u001b[0m\u001b[0;34m)\u001b[0m\u001b[0;34m\u001b[0m\u001b[0;34m\u001b[0m\u001b[0m\n\u001b[0m\u001b[1;32m   1018\u001b[0m             \u001b[0;31m# Make sure that we get a last message telling us we are done\u001b[0m\u001b[0;34m\u001b[0m\u001b[0;34m\u001b[0m\u001b[0;34m\u001b[0m\u001b[0m\n\u001b[1;32m   1019\u001b[0m             \u001b[0melapsed_time\u001b[0m \u001b[0;34m=\u001b[0m \u001b[0mtime\u001b[0m\u001b[0;34m.\u001b[0m\u001b[0mtime\u001b[0m\u001b[0;34m(\u001b[0m\u001b[0;34m)\u001b[0m \u001b[0;34m-\u001b[0m \u001b[0mself\u001b[0m\u001b[0;34m.\u001b[0m\u001b[0m_start_time\u001b[0m\u001b[0;34m\u001b[0m\u001b[0;34m\u001b[0m\u001b[0m\n",
      "\u001b[0;32m~/anaconda3/lib/python3.7/site-packages/joblib/parallel.py\u001b[0m in \u001b[0;36mretrieve\u001b[0;34m(self)\u001b[0m\n\u001b[1;32m    907\u001b[0m             \u001b[0;32mtry\u001b[0m\u001b[0;34m:\u001b[0m\u001b[0;34m\u001b[0m\u001b[0;34m\u001b[0m\u001b[0m\n\u001b[1;32m    908\u001b[0m                 \u001b[0;32mif\u001b[0m \u001b[0mgetattr\u001b[0m\u001b[0;34m(\u001b[0m\u001b[0mself\u001b[0m\u001b[0;34m.\u001b[0m\u001b[0m_backend\u001b[0m\u001b[0;34m,\u001b[0m \u001b[0;34m'supports_timeout'\u001b[0m\u001b[0;34m,\u001b[0m \u001b[0;32mFalse\u001b[0m\u001b[0;34m)\u001b[0m\u001b[0;34m:\u001b[0m\u001b[0;34m\u001b[0m\u001b[0;34m\u001b[0m\u001b[0m\n\u001b[0;32m--> 909\u001b[0;31m                     \u001b[0mself\u001b[0m\u001b[0;34m.\u001b[0m\u001b[0m_output\u001b[0m\u001b[0;34m.\u001b[0m\u001b[0mextend\u001b[0m\u001b[0;34m(\u001b[0m\u001b[0mjob\u001b[0m\u001b[0;34m.\u001b[0m\u001b[0mget\u001b[0m\u001b[0;34m(\u001b[0m\u001b[0mtimeout\u001b[0m\u001b[0;34m=\u001b[0m\u001b[0mself\u001b[0m\u001b[0;34m.\u001b[0m\u001b[0mtimeout\u001b[0m\u001b[0;34m)\u001b[0m\u001b[0;34m)\u001b[0m\u001b[0;34m\u001b[0m\u001b[0;34m\u001b[0m\u001b[0m\n\u001b[0m\u001b[1;32m    910\u001b[0m                 \u001b[0;32melse\u001b[0m\u001b[0;34m:\u001b[0m\u001b[0;34m\u001b[0m\u001b[0;34m\u001b[0m\u001b[0m\n\u001b[1;32m    911\u001b[0m                     \u001b[0mself\u001b[0m\u001b[0;34m.\u001b[0m\u001b[0m_output\u001b[0m\u001b[0;34m.\u001b[0m\u001b[0mextend\u001b[0m\u001b[0;34m(\u001b[0m\u001b[0mjob\u001b[0m\u001b[0;34m.\u001b[0m\u001b[0mget\u001b[0m\u001b[0;34m(\u001b[0m\u001b[0;34m)\u001b[0m\u001b[0;34m)\u001b[0m\u001b[0;34m\u001b[0m\u001b[0;34m\u001b[0m\u001b[0m\n",
      "\u001b[0;32m~/anaconda3/lib/python3.7/site-packages/joblib/_parallel_backends.py\u001b[0m in \u001b[0;36mwrap_future_result\u001b[0;34m(future, timeout)\u001b[0m\n\u001b[1;32m    560\u001b[0m         AsyncResults.get from multiprocessing.\"\"\"\n\u001b[1;32m    561\u001b[0m         \u001b[0;32mtry\u001b[0m\u001b[0;34m:\u001b[0m\u001b[0;34m\u001b[0m\u001b[0;34m\u001b[0m\u001b[0m\n\u001b[0;32m--> 562\u001b[0;31m             \u001b[0;32mreturn\u001b[0m \u001b[0mfuture\u001b[0m\u001b[0;34m.\u001b[0m\u001b[0mresult\u001b[0m\u001b[0;34m(\u001b[0m\u001b[0mtimeout\u001b[0m\u001b[0;34m=\u001b[0m\u001b[0mtimeout\u001b[0m\u001b[0;34m)\u001b[0m\u001b[0;34m\u001b[0m\u001b[0;34m\u001b[0m\u001b[0m\n\u001b[0m\u001b[1;32m    563\u001b[0m         \u001b[0;32mexcept\u001b[0m \u001b[0mLokyTimeoutError\u001b[0m\u001b[0;34m:\u001b[0m\u001b[0;34m\u001b[0m\u001b[0;34m\u001b[0m\u001b[0m\n\u001b[1;32m    564\u001b[0m             \u001b[0;32mraise\u001b[0m \u001b[0mTimeoutError\u001b[0m\u001b[0;34m(\u001b[0m\u001b[0;34m)\u001b[0m\u001b[0;34m\u001b[0m\u001b[0;34m\u001b[0m\u001b[0m\n",
      "\u001b[0;32m~/anaconda3/lib/python3.7/concurrent/futures/_base.py\u001b[0m in \u001b[0;36mresult\u001b[0;34m(self, timeout)\u001b[0m\n\u001b[1;32m    428\u001b[0m                 \u001b[0;32mreturn\u001b[0m \u001b[0mself\u001b[0m\u001b[0;34m.\u001b[0m\u001b[0m__get_result\u001b[0m\u001b[0;34m(\u001b[0m\u001b[0;34m)\u001b[0m\u001b[0;34m\u001b[0m\u001b[0;34m\u001b[0m\u001b[0m\n\u001b[1;32m    429\u001b[0m \u001b[0;34m\u001b[0m\u001b[0m\n\u001b[0;32m--> 430\u001b[0;31m             \u001b[0mself\u001b[0m\u001b[0;34m.\u001b[0m\u001b[0m_condition\u001b[0m\u001b[0;34m.\u001b[0m\u001b[0mwait\u001b[0m\u001b[0;34m(\u001b[0m\u001b[0mtimeout\u001b[0m\u001b[0;34m)\u001b[0m\u001b[0;34m\u001b[0m\u001b[0;34m\u001b[0m\u001b[0m\n\u001b[0m\u001b[1;32m    431\u001b[0m \u001b[0;34m\u001b[0m\u001b[0m\n\u001b[1;32m    432\u001b[0m             \u001b[0;32mif\u001b[0m \u001b[0mself\u001b[0m\u001b[0;34m.\u001b[0m\u001b[0m_state\u001b[0m \u001b[0;32min\u001b[0m \u001b[0;34m[\u001b[0m\u001b[0mCANCELLED\u001b[0m\u001b[0;34m,\u001b[0m \u001b[0mCANCELLED_AND_NOTIFIED\u001b[0m\u001b[0;34m]\u001b[0m\u001b[0;34m:\u001b[0m\u001b[0;34m\u001b[0m\u001b[0;34m\u001b[0m\u001b[0m\n",
      "\u001b[0;32m~/anaconda3/lib/python3.7/threading.py\u001b[0m in \u001b[0;36mwait\u001b[0;34m(self, timeout)\u001b[0m\n\u001b[1;32m    294\u001b[0m         \u001b[0;32mtry\u001b[0m\u001b[0;34m:\u001b[0m    \u001b[0;31m# restore state no matter what (e.g., KeyboardInterrupt)\u001b[0m\u001b[0;34m\u001b[0m\u001b[0;34m\u001b[0m\u001b[0m\n\u001b[1;32m    295\u001b[0m             \u001b[0;32mif\u001b[0m \u001b[0mtimeout\u001b[0m \u001b[0;32mis\u001b[0m \u001b[0;32mNone\u001b[0m\u001b[0;34m:\u001b[0m\u001b[0;34m\u001b[0m\u001b[0;34m\u001b[0m\u001b[0m\n\u001b[0;32m--> 296\u001b[0;31m                 \u001b[0mwaiter\u001b[0m\u001b[0;34m.\u001b[0m\u001b[0macquire\u001b[0m\u001b[0;34m(\u001b[0m\u001b[0;34m)\u001b[0m\u001b[0;34m\u001b[0m\u001b[0;34m\u001b[0m\u001b[0m\n\u001b[0m\u001b[1;32m    297\u001b[0m                 \u001b[0mgotit\u001b[0m \u001b[0;34m=\u001b[0m \u001b[0;32mTrue\u001b[0m\u001b[0;34m\u001b[0m\u001b[0;34m\u001b[0m\u001b[0m\n\u001b[1;32m    298\u001b[0m             \u001b[0;32melse\u001b[0m\u001b[0;34m:\u001b[0m\u001b[0;34m\u001b[0m\u001b[0;34m\u001b[0m\u001b[0m\n",
      "\u001b[0;31mKeyboardInterrupt\u001b[0m: "
     ]
    }
   ],
   "source": [
    "# Fit the grid search to the data\n",
    "grid_search.fit(X_train, y_train)\n",
    "grid_search.best_params_"
   ]
  },
  {
   "cell_type": "code",
   "execution_count": null,
   "metadata": {
    "id": "Z0UfvYQBtICO"
   },
   "outputs": [],
   "source": [
    "best_grid = grid_search.best_estimator_"
   ]
  },
  {
   "cell_type": "code",
   "execution_count": null,
   "metadata": {
    "id": "Zhc-uXUYMD-R"
   },
   "outputs": [],
   "source": [
    "y_pred = grid_search.predict(X_test)\n",
    "accuracy_score(y_pred, y_test)"
   ]
  },
  {
   "cell_type": "code",
   "execution_count": null,
   "metadata": {
    "id": "tIPuJGFqtzMc"
   },
   "outputs": [],
   "source": [
    "important_features = pd.Series(data=grid_search.feature_importances_,index=X_train.columns)\n",
    "important_features.sort_values(ascending=False,inplace=True)\n",
    "important_features"
   ]
  },
  {
   "cell_type": "code",
   "execution_count": null,
   "metadata": {
    "id": "y-iJVBMcwR-c"
   },
   "outputs": [],
   "source": []
  }
 ],
 "metadata": {
  "accelerator": "TPU",
  "colab": {
   "collapsed_sections": [],
   "name": "FE 520 Project.ipynb",
   "provenance": []
  },
  "kernelspec": {
   "display_name": "Python 3",
   "language": "python",
   "name": "python3"
  },
  "language_info": {
   "codemirror_mode": {
    "name": "ipython",
    "version": 3
   },
   "file_extension": ".py",
   "mimetype": "text/x-python",
   "name": "python",
   "nbconvert_exporter": "python",
   "pygments_lexer": "ipython3",
   "version": "3.7.7"
  }
 },
 "nbformat": 4,
 "nbformat_minor": 1
}
