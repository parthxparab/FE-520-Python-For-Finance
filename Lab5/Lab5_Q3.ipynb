{
 "cells": [
  {
   "cell_type": "markdown",
   "metadata": {},
   "source": [
    "### import statements "
   ]
  },
  {
   "cell_type": "code",
   "execution_count": 18,
   "metadata": {},
   "outputs": [],
   "source": [
    "import matplotlib.pyplot as plt\n",
    "import numpy as np\n",
    "from sklearn import datasets, linear_model\n",
    "from sklearn.metrics import r2_score\n",
    "from sklearn.model_selection import cross_val_score\n",
    "from sklearn.ensemble import RandomForestRegressor\n",
    "from sklearn.model_selection import train_test_split\n",
    "from sklearn.metrics import mean_squared_error\n",
    "from sklearn.model_selection import GridSearchCV\n",
    "from pprint import pprint"
   ]
  },
  {
   "cell_type": "markdown",
   "metadata": {},
   "source": [
    "### Question 3 Regression"
   ]
  },
  {
   "cell_type": "markdown",
   "metadata": {},
   "source": [
    "#### 3.1 & 3.2"
   ]
  },
  {
   "cell_type": "code",
   "execution_count": 19,
   "metadata": {},
   "outputs": [],
   "source": [
    "# Load the diabetes dataset\n",
    "diabetes_X, diabetes_y = datasets.load_diabetes(return_X_y=True)\n",
    "\n",
    "# Split the data into training/testing sets\n",
    "# Split the targets into training/testing sets\n",
    "\n",
    "diabetes_X_train, diabetes_X_test, diabetes_y_train, diabetes_y_test = train_test_split(diabetes_X, diabetes_y, test_size=0.20, random_state=42)\n"
   ]
  },
  {
   "cell_type": "markdown",
   "metadata": {},
   "source": [
    "#### 3.3"
   ]
  },
  {
   "cell_type": "code",
   "execution_count": 20,
   "metadata": {},
   "outputs": [],
   "source": [
    "# Create linear regression object\n",
    "linreg = linear_model.LinearRegression()\n",
    "\n",
    "# Train the model using the training sets\n",
    "linreg.fit(diabetes_X_train, diabetes_y_train)\n",
    "\n",
    "# Make predictions using the testing set\n",
    "diabetes_y_pred = linreg.predict(diabetes_X_test)"
   ]
  },
  {
   "cell_type": "code",
   "execution_count": 21,
   "metadata": {},
   "outputs": [
    {
     "name": "stdout",
     "output_type": "stream",
     "text": [
      "Coefficients: \n",
      " [  37.90031426 -241.96624835  542.42575342  347.70830529 -931.46126093\n",
      "  518.04405547  163.40353476  275.31003837  736.18909839   48.67112488]\n",
      "\n",
      "R-squared score: 0.45\n"
     ]
    }
   ],
   "source": [
    "# The coefficients\n",
    "print('Coefficients: \\n', linreg.coef_)\n",
    "\n",
    "# The coefficient of determination: 1 is perfect prediction\n",
    "print('\\nR-squared score: %.2f'\n",
    "      % r2_score(diabetes_y_test, diabetes_y_pred))"
   ]
  },
  {
   "cell_type": "markdown",
   "metadata": {},
   "source": [
    "#### 3.4"
   ]
  },
  {
   "cell_type": "code",
   "execution_count": 22,
   "metadata": {},
   "outputs": [
    {
     "name": "stdout",
     "output_type": "stream",
     "text": [
      "Cross Validation Score for fold  1 is:  0.5310818612097871\n",
      "Cross Validation Score for fold  2 is:  0.48929200594262445\n",
      "Cross Validation Score for fold  3 is:  0.6155148865078137\n",
      "Cross Validation Score for fold  4 is:  -0.07802446434722854\n",
      "Cross Validation Score for fold  5 is:  0.4650954815453411\n",
      "Cross Validation Score for fold  6 is:  0.5338119174559128\n",
      "Cross Validation Score for fold  7 is:  0.706563282930452\n",
      "Cross Validation Score for fold  8 is:  0.5253790639706339\n",
      "Cross Validation Score for fold  9 is:  -0.23181569661350765\n",
      "Cross Validation Score for fold  10 is:  0.37529064060113176\n",
      "\n",
      "Mean Accuracy: 0.46 with STD DEVIATION:  0.58\n"
     ]
    }
   ],
   "source": [
    "#Using 10-fold cross validation to fit and validate linear regression models on the whole data set. Printing the scores for each validation.\n",
    "\n",
    "scores = cross_val_score(linreg, diabetes_X_train, diabetes_y_train, cv=10)\n",
    "count = 1\n",
    "for i in scores:\n",
    "    print(\"Cross Validation Score for fold \", count, \"is: \", i)\n",
    "    count = count + 1\n",
    "\n",
    "print(\"\\nMean Accuracy: %0.2f with STD DEVIATION:  %0.2f\" % (np.mean(np.abs(scores)), scores.std() * 2))"
   ]
  },
  {
   "cell_type": "markdown",
   "metadata": {},
   "source": [
    "#### 3.5"
   ]
  },
  {
   "cell_type": "code",
   "execution_count": 26,
   "metadata": {},
   "outputs": [
    {
     "name": "stdout",
     "output_type": "stream",
     "text": [
      "\n",
      "R-squared score: 0.44\n",
      "Root mean squared test error = 54.465358204535065\n"
     ]
    }
   ],
   "source": [
    "# Use sklearn to create RandomForestRegressor model, and fit the training data into it.\n",
    "\n",
    "rforest = RandomForestRegressor(n_estimators=1000, max_depth=None, min_samples_split=2, random_state=1)\n",
    "rforest.fit(diabetes_X_train, diabetes_y_train)\n",
    "\n",
    "diabetes_y_pred = rforest.predict(diabetes_X_test)\n",
    "#calculating the r square score\n",
    "print('\\nR-squared score: %.2f'% r2_score(diabetes_y_test, diabetes_y_pred))\n",
    "\n",
    "#calculating root mean sq error\n",
    "print(\"Root mean squared test error = {0}\".format(np.sqrt(np.mean((rforest.predict(diabetes_X_test) - diabetes_y_test)**2))))\n"
   ]
  },
  {
   "cell_type": "markdown",
   "metadata": {},
   "source": [
    "#### 3.6"
   ]
  },
  {
   "cell_type": "code",
   "execution_count": 24,
   "metadata": {},
   "outputs": [
    {
     "name": "stdout",
     "output_type": "stream",
     "text": [
      "{'bootstrap': True,\n",
      " 'ccp_alpha': 0.0,\n",
      " 'criterion': 'mse',\n",
      " 'max_depth': None,\n",
      " 'max_features': 'auto',\n",
      " 'max_leaf_nodes': None,\n",
      " 'max_samples': None,\n",
      " 'min_impurity_decrease': 0.0,\n",
      " 'min_impurity_split': None,\n",
      " 'min_samples_leaf': 1,\n",
      " 'min_samples_split': 20,\n",
      " 'min_weight_fraction_leaf': 0.0,\n",
      " 'n_estimators': 1000,\n",
      " 'n_jobs': None,\n",
      " 'oob_score': False,\n",
      " 'random_state': 1,\n",
      " 'verbose': 0,\n",
      " 'warm_start': False}\n"
     ]
    }
   ],
   "source": [
    "#Using Grid Search to find the optimal hyper-parameters\n",
    "\n",
    "#setup randomforest\n",
    "rforest = RandomForestRegressor(n_estimators=1000, max_depth=None, min_samples_split=2, random_state=1)\n",
    "\n",
    "#setup and train GridSearchCV\n",
    "clf = GridSearchCV(rforest, {'max_depth': [None, 7, 4],'min_samples_split': [2, 10, 20]}, cv=10)\n",
    "model = clf.fit(diabetes_X_train, diabetes_y_train)\n",
    "\n",
    "# print optimal hyper-parameters\n",
    "pprint(model.best_estimator_.get_params())"
   ]
  },
  {
   "cell_type": "code",
   "execution_count": 25,
   "metadata": {},
   "outputs": [
    {
     "name": "stdout",
     "output_type": "stream",
     "text": [
      "\n",
      "R-squared score: 0.46\n"
     ]
    }
   ],
   "source": [
    "#print R-squared score\n",
    "diabetes_y_pred = model.predict(diabetes_X_test)\n",
    "print('\\nR-squared score: %.2f'% r2_score(diabetes_y_test, diabetes_y_pred))"
   ]
  },
  {
   "cell_type": "code",
   "execution_count": null,
   "metadata": {},
   "outputs": [],
   "source": []
  }
 ],
 "metadata": {
  "kernelspec": {
   "display_name": "Python 3",
   "language": "python",
   "name": "python3"
  },
  "language_info": {
   "codemirror_mode": {
    "name": "ipython",
    "version": 3
   },
   "file_extension": ".py",
   "mimetype": "text/x-python",
   "name": "python",
   "nbconvert_exporter": "python",
   "pygments_lexer": "ipython3",
   "version": "3.7.7"
  }
 },
 "nbformat": 4,
 "nbformat_minor": 4
}
