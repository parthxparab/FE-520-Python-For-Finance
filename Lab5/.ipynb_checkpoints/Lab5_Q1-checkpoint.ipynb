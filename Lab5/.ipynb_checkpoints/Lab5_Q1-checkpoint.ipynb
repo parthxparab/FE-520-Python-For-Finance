{
 "cells": [
  {
   "cell_type": "code",
   "execution_count": 223,
   "metadata": {},
   "outputs": [],
   "source": [
    "#import statements\n",
    "import pandas as pd\n",
    "import numpy as np"
   ]
  },
  {
   "cell_type": "code",
   "execution_count": 224,
   "metadata": {},
   "outputs": [
    {
     "name": "stdout",
     "output_type": "stream",
     "text": [
      "(844, 380)\n"
     ]
    }
   ],
   "source": [
    "#import Energy.xlsx to pandas dataframe\n",
    "df = pd.read_excel (r'Energy.xlsx')\n",
    "print(df.shape) #check if data is imported correctly by checking dimensions"
   ]
  },
  {
   "cell_type": "code",
   "execution_count": 225,
   "metadata": {},
   "outputs": [],
   "source": [
    "#getting column index by column name\n",
    "index_1 = df.columns.get_loc(\"Accumulated Other Comprehensive Income (Loss)\")\n",
    "index_2 = df.columns.get_loc(\"Selling, General and Administrative Expenses\") "
   ]
  },
  {
   "cell_type": "code",
   "execution_count": 226,
   "metadata": {},
   "outputs": [],
   "source": [
    "#function definition for splitEnergy\n",
    "def splitEnergy(StartYear=2012,EndYear=None):\n",
    "    df_temp = df\n",
    "    \n",
    "    #set column 'Data Date' type to string to split year and convert back to integer\n",
    "    df_temp['Data Date'] = df_temp['Data Date'].astype(str).str[:4].astype(int) \n",
    "    \n",
    "    #If EndYear is None, we will only choose all data with ”Data Date” == StartYear as Test data, all other data as Train data. \n",
    "    #By default, all company Data Date within 2012 will be selected as Testing data.\n",
    "    if (EndYear == None): \n",
    "        TestData = df_temp[df_temp['Data Date'] == StartYear]\n",
    "        TrainData = df_temp[df_temp['Data Date'] != StartYear]\n",
    "\n",
    "        \n",
    "    #If EndYear is NOT None, we will choose all data with ”Data Date” == StartYear to EndYear as Test data, all other data as Train data\n",
    "    else: \n",
    "        TestData = df_temp[(df_temp['Data Date'] >= StartYear) & (df_temp['Data Date'] <= EndYear)]\n",
    "        TrainData = df_temp[(df_temp['Data Date'] < StartYear) | (df_temp['Data Date'] > EndYear)]\n",
    "        \n",
    "    #array from column ”Accumulated Other Comprehensive Income (Loss)” to column ”Selling, General and Administrative Expenses”.\n",
    "    TestData = TestData.iloc[:, index_1:index_2]\n",
    "    TrainData = TrainData.iloc[:, index_1:index_2]\n",
    "\n",
    "    #Output Data type: Array(Numpy)\n",
    "    return TestData.values , TrainData.values"
   ]
  },
  {
   "cell_type": "code",
   "execution_count": 227,
   "metadata": {},
   "outputs": [
    {
     "data": {
      "text/plain": [
       "(array([[-1057.,  1421.,  8212., ...,     0.,     0.,    nan],\n",
       "        [ -779.,  1699.,  7925., ...,     0.,     0.,    nan],\n",
       "        [ -675.,  2167.,  8157., ...,     0.,     0.,    nan],\n",
       "        ...,\n",
       "        [ -254.,   190., 14252., ...,     0.,    nan,    nan],\n",
       "        [ -205.,   206., 13531., ...,     0.,    nan,    nan],\n",
       "        [ -204.,   197., 12737., ...,     0.,    nan,    nan]]),\n",
       " array([[-1749.,  1502.,  8780., ...,     0.,     0.,    nan],\n",
       "        [-1603.,  1434.,  8296., ...,     0.,     0.,    nan],\n",
       "        [-1377.,   865.,  8839., ...,     0.,     0.,    nan],\n",
       "        ...,\n",
       "        [ -321.,   142., 10304., ...,    nan,    nan,    nan],\n",
       "        [ -327.,   176.,  9545., ...,    nan,    nan,    nan],\n",
       "        [ -234.,   236., 10401., ...,    nan,    nan,    nan]]))"
      ]
     },
     "execution_count": 227,
     "metadata": {},
     "output_type": "execute_result"
    }
   ],
   "source": [
    "#function execution\n",
    "splitEnergy(2012,2013)"
   ]
  },
  {
   "cell_type": "code",
   "execution_count": null,
   "metadata": {},
   "outputs": [],
   "source": []
  }
 ],
 "metadata": {
  "kernelspec": {
   "display_name": "Python 3",
   "language": "python",
   "name": "python3"
  },
  "language_info": {
   "codemirror_mode": {
    "name": "ipython",
    "version": 3
   },
   "file_extension": ".py",
   "mimetype": "text/x-python",
   "name": "python",
   "nbconvert_exporter": "python",
   "pygments_lexer": "ipython3",
   "version": "3.7.7"
  }
 },
 "nbformat": 4,
 "nbformat_minor": 4
}
