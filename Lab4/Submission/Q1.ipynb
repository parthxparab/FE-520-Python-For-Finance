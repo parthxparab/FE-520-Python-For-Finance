{
 "cells": [
  {
   "cell_type": "markdown",
   "metadata": {},
   "source": [
    "## Q1. Credit Transaction data(40 points)"
   ]
  },
  {
   "cell_type": "markdown",
   "metadata": {},
   "source": [
    "This dataset is simulated individual credit card transactions by one company. Please use this dataset to answer following question. Please notice that you may need to observe the dataset and clean it before answering the following question."
   ]
  },
  {
   "cell_type": "code",
   "execution_count": 51,
   "metadata": {},
   "outputs": [],
   "source": [
    "# --> Import statements\n",
    "import pandas as pd\n",
    "import re"
   ]
  },
  {
   "cell_type": "code",
   "execution_count": 52,
   "metadata": {},
   "outputs": [
    {
     "name": "stdout",
     "output_type": "stream",
     "text": [
      "   Year-Month  Agency Number                Agency Name Cardholder Last Name  \\\n",
      "0      201307           1000  OKLAHOMA STATE UNIVERSITY                Mason   \n",
      "1      201307           1000  OKLAHOMA STATE UNIVERSITY                Mason   \n",
      "2      201307           1000  OKLAHOMA STATE UNIVERSITY               Massey   \n",
      "3      201307           1000  OKLAHOMA STATE UNIVERSITY               Massey   \n",
      "4      201307           1000  OKLAHOMA STATE UNIVERSITY        Mauro-Herrera   \n",
      "\n",
      "  Cardholder First Initial                   Description  Amount  \\\n",
      "0                        C              GENERAL PURCHASE     890   \n",
      "1                        C                  ROOM CHARGES  368.96   \n",
      "2                        J              GENERAL PURCHASE  165.82   \n",
      "3                        T              GENERAL PURCHASE   96.39   \n",
      "4                        M  HAMMERMILL COPY PLUS COPY EA  125.96   \n",
      "\n",
      "           Vendor Transaction Date     Posted Date  \\\n",
      "0           NACAS   7/30/2013 0:00  7/31/2013 0:00   \n",
      "1  SHERATON HOTEL   7/30/2013 0:00  7/31/2013 0:00   \n",
      "2  SEARS.COM 9300   7/29/2013 0:00  7/31/2013 0:00   \n",
      "3  WAL-MART #0137   7/30/2013 0:00  7/31/2013 0:00   \n",
      "4  STAPLES DIRECT   7/30/2013 0:00  7/31/2013 0:00   \n",
      "\n",
      "                        Merchant Category Code (MCC)  \n",
      "0        CHARITABLE AND SOCIAL SERVICE ORGANIZATIONS  \n",
      "1                                           SHERATON  \n",
      "2  DIRCT MARKETING/DIRCT MARKETERS--NOT ELSEWHERE...  \n",
      "3                    GROCERY STORES,AND SUPERMARKETS  \n",
      "4  STATIONERY, OFFICE SUPPLIES, PRINTING AND WRIT...  \n"
     ]
    }
   ],
   "source": [
    "df = pd.read_csv(\"res_purchase_2014.csv\", low_memory=False) #importing dataset res_purchase_2014.csv\n",
    "print(df.head()) #displaying top 5 rows"
   ]
  },
  {
   "cell_type": "markdown",
   "metadata": {},
   "source": [
    "### 1. What is total amount spending captured in this dataset?\n",
    "Hint: you may observe $ in front of the amount, which you need remove it (see.row 12), and () stands for negative value, which you need deduct the amount."
   ]
  },
  {
   "cell_type": "code",
   "execution_count": 50,
   "metadata": {},
   "outputs": [],
   "source": [
    "df = df.dropna() #dropping NA values \n",
    "new = []\n",
    "for value in df['Amount']:\n",
    "    if(type(value) == str):\n",
    "        value = value.strip()\n",
    "        \n",
    "        if(value[0] == '(' and value[-1] == ')'):\n",
    "            value = str('-' + value[1:-1]) #if value contains () \n",
    "            \n",
    "        if('$' in value): \n",
    "            value = value.replace('$', '') #if value contains $\n",
    "            \n",
    "        if(re.search('[a-zA-Z]', value)): \n",
    "            value = re.sub('[a-zA-Z]', '', value) #if value contains words\n",
    "            \n",
    "        value = float(value.strip()) #strip whitespace and convert str to float \n",
    "        \n",
    "    new.append(value)\n",
    "df['Amount'] =  new"
   ]
  },
  {
   "cell_type": "code",
   "execution_count": 41,
   "metadata": {},
   "outputs": [
    {
     "name": "stdout",
     "output_type": "stream",
     "text": [
      "Total Amount spent: 188040606.23\n"
     ]
    }
   ],
   "source": [
    "total = df['Amount'].sum() #sum all values \n",
    "print(\"Total Amount spent:\",round(total,2)) #round to 2 digit"
   ]
  },
  {
   "cell_type": "markdown",
   "metadata": {},
   "source": [
    "### 2. How much was spend at WW GRAINGER?\n",
    "Hint: All ‘WW GRAINGER’ contained in the ‘Vendor’."
   ]
  },
  {
   "cell_type": "code",
   "execution_count": 42,
   "metadata": {},
   "outputs": [],
   "source": [
    "count = 0\n",
    "for i in range(len(df)): \n",
    "    if(df['Vendor'][i] == 'WW GRAINGER'): #check for vendor with value WW GRAINGER \n",
    "        count = count + df['Amount'][i] #if found then add to count\n"
   ]
  },
  {
   "cell_type": "code",
   "execution_count": 43,
   "metadata": {},
   "outputs": [
    {
     "name": "stdout",
     "output_type": "stream",
     "text": [
      "Total Amount spent at WW GRAINGER: 5089417.48\n"
     ]
    }
   ],
   "source": [
    "print(\"Total Amount spent at WW GRAINGER:\",round(count,2)) #round to 2 digit"
   ]
  },
  {
   "cell_type": "markdown",
   "metadata": {},
   "source": [
    "### 3. How much was spend at WM SUPERCENTER?\n",
    "Hint: All ‘WM SUPERCENTER’ contained in the ‘Vendor’.\n"
   ]
  },
  {
   "cell_type": "code",
   "execution_count": 44,
   "metadata": {},
   "outputs": [],
   "source": [
    "count_sc = 0\n",
    "for i in range(len(df)): \n",
    "    if(df['Vendor'][i] == 'WM SUPERCENTER'): #check for vendor with value WM SUPERCENTER\n",
    "        count_sc = count_sc + df['Amount'][i] #if found then add to count"
   ]
  },
  {
   "cell_type": "code",
   "execution_count": 45,
   "metadata": {},
   "outputs": [
    {
     "name": "stdout",
     "output_type": "stream",
     "text": [
      "Total Amount spent at WM SUPERCENTER: 31777.83\n"
     ]
    }
   ],
   "source": [
    "print(\"Total Amount spent at WM SUPERCENTER:\",round(count_sc,2))  #round to 2 digit"
   ]
  },
  {
   "cell_type": "markdown",
   "metadata": {},
   "source": [
    "### 4. How much was spend at GROCERY STORES?\n",
    "Hint: All ‘GROCERY STORES’ contained in the ‘Merchant Category Code’."
   ]
  },
  {
   "cell_type": "code",
   "execution_count": 46,
   "metadata": {},
   "outputs": [],
   "source": [
    "count_gc = 0\n",
    "for i in range(len(df)): \n",
    "    if('GROCERY STORES' in df['Merchant Category Code (MCC)'][i] ): #check for MCC with value GROCERY STORES\n",
    "        count_gc = count_gc + df['Amount'][i]"
   ]
  },
  {
   "cell_type": "code",
   "execution_count": 47,
   "metadata": {},
   "outputs": [
    {
     "name": "stdout",
     "output_type": "stream",
     "text": [
      "Total Amount spent at GROCERY STORES: 1271339.98\n"
     ]
    }
   ],
   "source": [
    "print(\"Total Amount spent at GROCERY STORES:\",round(count_gc,2)) #round to 2 digit"
   ]
  },
  {
   "cell_type": "markdown",
   "metadata": {},
   "source": [
    "### Final Output"
   ]
  },
  {
   "cell_type": "code",
   "execution_count": 49,
   "metadata": {},
   "outputs": [
    {
     "name": "stdout",
     "output_type": "stream",
     "text": [
      "Results for Part 1: \n",
      " _________________\n",
      "\n",
      "Total Amount spent: 188040606.23\n",
      "Total Amount spent at WW GRAINGER: 5089417.48\n",
      "Total Amount spent at WM SUPERCENTER: 31777.83\n",
      "Total Amount spent at GROCERY STORES: 1271339.98\n"
     ]
    }
   ],
   "source": [
    "print('Results for Part 1: \\n _________________\\n')\n",
    "print(\"Total Amount spent:\",round(total,2)) #round to 2 digit\n",
    "print(\"Total Amount spent at WW GRAINGER:\",round(count,2)) #round to 2 digit\n",
    "print(\"Total Amount spent at WM SUPERCENTER:\",round(count_sc,2))  #round to 2 digit\n",
    "print(\"Total Amount spent at GROCERY STORES:\",round(count_gc,2)) #round to 2 digit"
   ]
  },
  {
   "cell_type": "code",
   "execution_count": null,
   "metadata": {},
   "outputs": [],
   "source": []
  }
 ],
 "metadata": {
  "kernelspec": {
   "display_name": "Python 3",
   "language": "python",
   "name": "python3"
  },
  "language_info": {
   "codemirror_mode": {
    "name": "ipython",
    "version": 3
   },
   "file_extension": ".py",
   "mimetype": "text/x-python",
   "name": "python",
   "nbconvert_exporter": "python",
   "pygments_lexer": "ipython3",
   "version": "3.7.7"
  }
 },
 "nbformat": 4,
 "nbformat_minor": 4
}
