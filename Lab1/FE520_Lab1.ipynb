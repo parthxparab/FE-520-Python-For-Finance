{
 "cells": [
  {
   "cell_type": "markdown",
   "metadata": {
    "id": "qzubLYdxh0UN"
   },
   "source": [
    "## **1 Print (10pts)**"
   ]
  },
  {
   "cell_type": "markdown",
   "metadata": {
    "id": "oeFR_y6gh-J7"
   },
   "source": [
    "1. Define a string variable, and print it."
   ]
  },
  {
   "cell_type": "code",
   "execution_count": null,
   "metadata": {
    "colab": {
     "base_uri": "https://localhost:8080/",
     "height": 34
    },
    "id": "htJ9rZk2Yllp",
    "outputId": "e10a57c5-de9c-4faa-e2d7-9cf8da6635b9"
   },
   "outputs": [
    {
     "name": "stdout",
     "output_type": "stream",
     "text": [
      "string\n"
     ]
    }
   ],
   "source": [
    "s = 'string'\n",
    "print(s)"
   ]
  },
  {
   "cell_type": "markdown",
   "metadata": {
    "id": "a9ypI1GFiCER"
   },
   "source": [
    "2. Define a string (I’m a student), print it."
   ]
  },
  {
   "cell_type": "code",
   "execution_count": null,
   "metadata": {
    "colab": {
     "base_uri": "https://localhost:8080/",
     "height": 34
    },
    "id": "2Q3DY01NYwLt",
    "outputId": "3afae2e5-a972-4d70-836f-9bcdb5f6cd1c"
   },
   "outputs": [
    {
     "name": "stdout",
     "output_type": "stream",
     "text": [
      "I'm a student\n"
     ]
    }
   ],
   "source": [
    "s = \"I'm a student\"\n",
    "print(s)"
   ]
  },
  {
   "cell_type": "markdown",
   "metadata": {
    "id": "rqVvP3atiHOB"
   },
   "source": [
    "3. Defind a string:\n",
    "(How do you think of this course?\n",
    "Describe your feeling of this course)\n",
    "print it in multiple line"
   ]
  },
  {
   "cell_type": "code",
   "execution_count": null,
   "metadata": {
    "colab": {
     "base_uri": "https://localhost:8080/",
     "height": 68
    },
    "id": "Ttp__6TNY8pX",
    "outputId": "c5b4027e-4bc3-42ad-a2ef-c658a18a6fb6"
   },
   "outputs": [
    {
     "name": "stdout",
     "output_type": "stream",
     "text": [
      "How do you think of this course?\n",
      "So far so good\n",
      "I love it\n"
     ]
    }
   ],
   "source": [
    "s = \"\"\"How do you think of this course?\n",
    "So far so good\n",
    "I love it\"\"\"\n",
    "print(s)"
   ]
  },
  {
   "cell_type": "markdown",
   "metadata": {
    "id": "umRZpPTDiKzw"
   },
   "source": [
    "## **2 Operator (15pts)**"
   ]
  },
  {
   "cell_type": "markdown",
   "metadata": {
    "id": "9H1y3sLHifgS"
   },
   "source": [
    "**Define a = 100, b = 9, calculate following problems**"
   ]
  },
  {
   "cell_type": "markdown",
   "metadata": {
    "id": "Ml4MZSE3ijiv"
   },
   "source": [
    "1. c = a + b, print c out."
   ]
  },
  {
   "cell_type": "code",
   "execution_count": null,
   "metadata": {
    "colab": {
     "base_uri": "https://localhost:8080/",
     "height": 34
    },
    "id": "fRFeHFRrZUkz",
    "outputId": "857f4566-049b-48e6-f604-d74d4ed33e07"
   },
   "outputs": [
    {
     "name": "stdout",
     "output_type": "stream",
     "text": [
      "109\n"
     ]
    }
   ],
   "source": [
    "a = 100\n",
    "b = 9\n",
    "c = a+b\n",
    "print(c)"
   ]
  },
  {
   "cell_type": "markdown",
   "metadata": {
    "id": "trYM5rzFilUE"
   },
   "source": [
    "2. print the quotient of a/b."
   ]
  },
  {
   "cell_type": "code",
   "execution_count": null,
   "metadata": {
    "colab": {
     "base_uri": "https://localhost:8080/",
     "height": 34
    },
    "id": "hwqG-CvdZVoq",
    "outputId": "c38df4e4-029f-4c6d-fad6-c638b7766080"
   },
   "outputs": [
    {
     "name": "stdout",
     "output_type": "stream",
     "text": [
      "11\n"
     ]
    }
   ],
   "source": [
    "print(a//b)"
   ]
  },
  {
   "cell_type": "markdown",
   "metadata": {
    "id": "WT_BCAvAiozI"
   },
   "source": [
    "3. print the integer part of a/b."
   ]
  },
  {
   "cell_type": "code",
   "execution_count": null,
   "metadata": {
    "colab": {
     "base_uri": "https://localhost:8080/",
     "height": 34
    },
    "id": "g0ceeo01ZpI4",
    "outputId": "d6e66335-4764-496e-818b-f042f53d04ac"
   },
   "outputs": [
    {
     "name": "stdout",
     "output_type": "stream",
     "text": [
      "11\n"
     ]
    }
   ],
   "source": [
    "print(int(a/b))"
   ]
  },
  {
   "cell_type": "markdown",
   "metadata": {
    "id": "qlpIl2pSirKK"
   },
   "source": [
    "4. print the remainder part of a/b"
   ]
  },
  {
   "cell_type": "code",
   "execution_count": null,
   "metadata": {
    "colab": {
     "base_uri": "https://localhost:8080/",
     "height": 34
    },
    "id": "1N-NAgiqZvYx",
    "outputId": "9299e8dc-357a-49f5-a1c7-2c5d1fbff169"
   },
   "outputs": [
    {
     "name": "stdout",
     "output_type": "stream",
     "text": [
      "1\n"
     ]
    }
   ],
   "source": [
    "print(a%b)"
   ]
  },
  {
   "cell_type": "markdown",
   "metadata": {
    "id": "X5dfQ5GWit89"
   },
   "source": [
    "5. print the result of ’a’ to the power of b."
   ]
  },
  {
   "cell_type": "code",
   "execution_count": null,
   "metadata": {
    "colab": {
     "base_uri": "https://localhost:8080/",
     "height": 34
    },
    "id": "7-fNMuWRaChR",
    "outputId": "4f1fc190-80e0-4f5f-b59d-0ae4ef97d46e"
   },
   "outputs": [
    {
     "name": "stdout",
     "output_type": "stream",
     "text": [
      "1000000000000000000\n"
     ]
    }
   ],
   "source": [
    "print(a**b)"
   ]
  },
  {
   "cell_type": "markdown",
   "metadata": {
    "id": "9w3w97a5ivww"
   },
   "source": [
    "6. Using logic operator to return a Boolean value for a unequal to b."
   ]
  },
  {
   "cell_type": "code",
   "execution_count": null,
   "metadata": {
    "colab": {
     "base_uri": "https://localhost:8080/",
     "height": 34
    },
    "id": "DWHFeMVQaGEC",
    "outputId": "c5cefac3-515a-4530-abb2-1cfa3aa5b52a"
   },
   "outputs": [
    {
     "data": {
      "text/plain": [
       "True"
      ]
     },
     "execution_count": 12,
     "metadata": {
      "tags": []
     },
     "output_type": "execute_result"
    }
   ],
   "source": [
    "a!=b"
   ]
  },
  {
   "cell_type": "markdown",
   "metadata": {
    "id": "3CLR62E_iwtZ"
   },
   "source": [
    "7. Using logic operator to return a Boolean value for a greater than b."
   ]
  },
  {
   "cell_type": "code",
   "execution_count": null,
   "metadata": {
    "colab": {
     "base_uri": "https://localhost:8080/",
     "height": 34
    },
    "id": "OwP33lc0aNwN",
    "outputId": "9f91e822-ced5-4402-ec4c-52972db5a4f2"
   },
   "outputs": [
    {
     "data": {
      "text/plain": [
       "True"
      ]
     },
     "execution_count": 13,
     "metadata": {
      "tags": []
     },
     "output_type": "execute_result"
    }
   ],
   "source": [
    "a > b"
   ]
  },
  {
   "cell_type": "markdown",
   "metadata": {
    "id": "c7eJPvmDi1F9"
   },
   "source": [
    "## **3 List Practice (30pts)**"
   ]
  },
  {
   "cell_type": "markdown",
   "metadata": {
    "id": "uwWq5r9Li4EK"
   },
   "source": [
    "1. Define a list Name it List A), whose items should include integer, float, and\n",
    "string. Please notice the length of the list should be greater than 5."
   ]
  },
  {
   "cell_type": "code",
   "execution_count": null,
   "metadata": {
    "id": "je8c2_D2aWTP"
   },
   "outputs": [],
   "source": [
    "List_A = [2, 3, 4, \"hello\",\"world\", 1.3,5.33]"
   ]
  },
  {
   "cell_type": "markdown",
   "metadata": {
    "id": "a3kTB7K8i7_g"
   },
   "source": [
    "2. Using extend and append to add another list(Name it List B) to List A."
   ]
  },
  {
   "cell_type": "code",
   "execution_count": null,
   "metadata": {
    "colab": {
     "base_uri": "https://localhost:8080/",
     "height": 34
    },
    "id": "5_QaTGEtbtt1",
    "outputId": "89b2cb81-3428-42ff-c538-8f90d363b5d8"
   },
   "outputs": [
    {
     "name": "stdout",
     "output_type": "stream",
     "text": [
      "[2, 3, 4, 'hello', 'world', 1.3, 5.33, 'test', ['test']]\n"
     ]
    }
   ],
   "source": [
    "List_B = ['test']\n",
    "List_A.append(List_B)\n",
    "print(List_A)"
   ]
  },
  {
   "cell_type": "code",
   "execution_count": null,
   "metadata": {
    "colab": {
     "base_uri": "https://localhost:8080/",
     "height": 34
    },
    "id": "HkvAwtJrcAxQ",
    "outputId": "320441a3-413f-428c-956f-3cf9b0a34bd7"
   },
   "outputs": [
    {
     "data": {
      "text/plain": [
       "[2, 3, 4, 'hello', 'world', 1.3, 5.33, 'test']"
      ]
     },
     "execution_count": 25,
     "metadata": {
      "tags": []
     },
     "output_type": "execute_result"
    }
   ],
   "source": [
    "List_A = [2, 3, 4, \"hello\",\"world\", 1.3,5.33]\n",
    "List_A.extend(List_B)\n",
    "List_A"
   ]
  },
  {
   "cell_type": "markdown",
   "metadata": {
    "id": "F35Zw9R2i_2S"
   },
   "source": [
    "3. Insert a string (’FE520’) to the second place of List A, and delete it after that."
   ]
  },
  {
   "cell_type": "code",
   "execution_count": null,
   "metadata": {
    "colab": {
     "base_uri": "https://localhost:8080/",
     "height": 51
    },
    "id": "ZBULf5Lcce17",
    "outputId": "139ca5c8-66fe-45dd-ccce-fbcfc87a9b5f"
   },
   "outputs": [
    {
     "name": "stdout",
     "output_type": "stream",
     "text": [
      "[2, 'FE520', 3, 4, 'hello', 'world', 1.3, 5.33, 'test']\n",
      "[2, 3, 4, 'hello', 'world', 1.3, 5.33, 'test']\n"
     ]
    }
   ],
   "source": [
    "List_A.insert(1,\"FE520\")\n",
    "print(List_A)\n",
    "List_A.pop(1)\n",
    "print(List_A)"
   ]
  },
  {
   "cell_type": "markdown",
   "metadata": {
    "id": "J9KBKC4djF9S"
   },
   "source": [
    "4. Return and delete the last element in the List A, and print the new list."
   ]
  },
  {
   "cell_type": "code",
   "execution_count": null,
   "metadata": {
    "colab": {
     "base_uri": "https://localhost:8080/",
     "height": 51
    },
    "id": "XF1nb4C8dGb1",
    "outputId": "f2e1889b-881f-4f0d-e93b-e8796b36281c"
   },
   "outputs": [
    {
     "name": "stdout",
     "output_type": "stream",
     "text": [
      "test\n",
      "[2, 3, 4, 'hello', 'world', 1.3, 5.33]\n"
     ]
    }
   ],
   "source": [
    "x = List_A.pop()\n",
    "print(x)\n",
    "print(List_A)"
   ]
  },
  {
   "cell_type": "markdown",
   "metadata": {
    "id": "ob6UA4PijIop"
   },
   "source": [
    "5. Return a new list (Name is List C), slicing the List A from 3rd to the end."
   ]
  },
  {
   "cell_type": "code",
   "execution_count": null,
   "metadata": {
    "colab": {
     "base_uri": "https://localhost:8080/",
     "height": 34
    },
    "id": "KMRZozdzdL6o",
    "outputId": "00c588d3-88c8-4ed5-9640-04cf1439093b"
   },
   "outputs": [
    {
     "data": {
      "text/plain": [
       "[4, 'hello', 'world', 1.3, 5.33]"
      ]
     },
     "execution_count": 28,
     "metadata": {
      "tags": []
     },
     "output_type": "execute_result"
    }
   ],
   "source": [
    "List_C = List_A[2:]\n",
    "List_C"
   ]
  },
  {
   "cell_type": "markdown",
   "metadata": {
    "id": "Y8_zo5fujK2s"
   },
   "source": [
    "6. Double size your List C."
   ]
  },
  {
   "cell_type": "code",
   "execution_count": null,
   "metadata": {
    "colab": {
     "base_uri": "https://localhost:8080/",
     "height": 34
    },
    "id": "6eBSLrIQdSGd",
    "outputId": "540d7e06-755a-446a-d593-1e950460c75e"
   },
   "outputs": [
    {
     "data": {
      "text/plain": [
       "[4, 'hello', 'world', 1.3, 5.33, 4, 'hello', 'world', 1.3, 5.33]"
      ]
     },
     "execution_count": 29,
     "metadata": {
      "tags": []
     },
     "output_type": "execute_result"
    }
   ],
   "source": [
    "List_C = List_C*2\n",
    "List_C"
   ]
  },
  {
   "cell_type": "markdown",
   "metadata": {
    "id": "hdN93jIPjMkh"
   },
   "source": [
    "7. Reverse your sequence of List C."
   ]
  },
  {
   "cell_type": "code",
   "execution_count": null,
   "metadata": {
    "colab": {
     "base_uri": "https://localhost:8080/",
     "height": 34
    },
    "id": "xcfEl3y0dUeA",
    "outputId": "d57d0f06-68e2-4acc-c667-3d8aea40722d"
   },
   "outputs": [
    {
     "data": {
      "text/plain": [
       "[5.33, 1.3, 'world', 'hello', 4, 5.33, 1.3, 'world', 'hello', 4]"
      ]
     },
     "execution_count": 30,
     "metadata": {
      "tags": []
     },
     "output_type": "execute_result"
    }
   ],
   "source": [
    "List_C[::-1]"
   ]
  },
  {
   "cell_type": "markdown",
   "metadata": {
    "id": "4awmoTwfjRUo"
   },
   "source": [
    "## **4 Practice Dictionary (15 pts)**"
   ]
  },
  {
   "cell_type": "markdown",
   "metadata": {
    "id": "Ldp6OD9-jZO7"
   },
   "source": [
    "1. Define a list A = [1, 2, 3, 5, 10, 1, 4, 10, 11, 20, 50, 100]."
   ]
  },
  {
   "cell_type": "code",
   "execution_count": null,
   "metadata": {
    "id": "lQ1E34iHdf0e"
   },
   "outputs": [],
   "source": [
    "List_A = [1, 2, 3, 5, 10, 1, 4, 10, 11, 20, 50, 100]"
   ]
  },
  {
   "cell_type": "markdown",
   "metadata": {
    "id": "y_3XOvUmjU3X"
   },
   "source": [
    "2. Write a loop to count the number of each unique digit into dictionary, where your\n",
    "keys are digit in the list A, and value is the count corresponding to each digit.\n",
    "Your result should look like :\n",
    "{1: 3, 2: 1, 3: 1, 5: 1, 10: 1, 4: 1, 11: 1, 20: 1, 50: 1, 100: 1}"
   ]
  },
  {
   "cell_type": "code",
   "execution_count": null,
   "metadata": {
    "colab": {
     "base_uri": "https://localhost:8080/",
     "height": 34
    },
    "id": "vOERltX6dxXw",
    "outputId": "64a8706b-6cfc-4783-8986-a693cf63307c"
   },
   "outputs": [
    {
     "name": "stdout",
     "output_type": "stream",
     "text": [
      "{1: 2, 2: 1, 3: 1, 5: 1, 10: 2, 4: 1, 11: 1, 20: 1, 50: 1, 100: 1}\n"
     ]
    }
   ],
   "source": [
    "freq = {} \n",
    "for item in List_A: \n",
    "    if (item in freq): \n",
    "        freq[item] += 1\n",
    "    else: \n",
    "        freq[item] = 1\n",
    "print(freq)"
   ]
  },
  {
   "cell_type": "markdown",
   "metadata": {
    "id": "9KbIEn_zphwI"
   },
   "source": [
    "## **5 Loop Condition Practice(30 pts)**"
   ]
  },
  {
   "cell_type": "markdown",
   "metadata": {
    "id": "o-lNRnuMpkna"
   },
   "source": [
    "Consider a sequenced list (or inversed sequence list, you need to consider an inversed\n",
    "sequence situation) and an inserted number. Define a function with two arguments, one\n",
    "is the sequenced list, another one is the inserted number. Please insert the number in\n",
    "the list with right place and output the new list. (Hint: you need to consider the special\n",
    "situation that the inserted number is smaller or greater than all numbers) Example:\n",
    "Input:\n",
    "List = [1, 2 , 4 , 9 , 17 , 25 , 63 ]\n",
    "InsertNum = 13\n",
    "Output:\n",
    "NewList = [1, 2 , 4 , 9 , 13 , 17 , 25 , 63 ]"
   ]
  },
  {
   "cell_type": "code",
   "execution_count": 15,
   "metadata": {
    "colab": {
     "base_uri": "https://localhost:8080/",
     "height": 34
    },
    "id": "5jPuDvv1fXCE",
    "outputId": "0151dede-a72f-4843-8d2d-c1f9e7c607a9"
   },
   "outputs": [
    {
     "name": "stdout",
     "output_type": "stream",
     "text": [
      "[1, 2, 4, 9, 13, 17, 25, 63]\n"
     ]
    }
   ],
   "source": [
    "def insert(old_lst, num):\n",
    "    if(old_lst == sorted(old_lst, reverse=False)):\n",
    "        for i in range(len(old_lst)+1):\n",
    "            \n",
    "            if(num > max(old_lst)):\n",
    "                old_lst.append(num)\n",
    "                break\n",
    "                \n",
    "            if(num < min(old_lst)):\n",
    "                old_lst.insert(0,num)\n",
    "                break\n",
    "                \n",
    "            elif old_lst[i] <= num and old_lst[i+1] >= num:\n",
    "                old_lst.insert(i+1, num)\n",
    "                break    \n",
    "\n",
    "    if(old_lst == sorted(old_lst, reverse=True)):\n",
    "        for i in range(len(old_lst)+1):\n",
    "            \n",
    "            if(num < min(old_lst)):\n",
    "                old_lst.append(num)\n",
    "                break\n",
    "            if(num > max(old_lst)):\n",
    "                old_lst.insert(0,num)\n",
    "                break                \n",
    "            elif old_lst[i] >= num and old_lst[i+1] <= num:\n",
    "                old_lst.insert(i+1, num)\n",
    "                break \n",
    "    return old_lst\n",
    "\n",
    "List = [1, 2 , 4 , 9 , 17 , 25 , 63]\n",
    "InsertNum = 13\n",
    "lst = insert(List, InsertNum)\n",
    "print(lst)\n"
   ]
  },
  {
   "cell_type": "code",
   "execution_count": null,
   "metadata": {},
   "outputs": [],
   "source": []
  }
 ],
 "metadata": {
  "colab": {
   "collapsed_sections": [],
   "name": "FE520_Lab1.ipynb",
   "provenance": []
  },
  "kernelspec": {
   "display_name": "Python 3",
   "language": "python",
   "name": "python3"
  },
  "language_info": {
   "codemirror_mode": {
    "name": "ipython",
    "version": 3
   },
   "file_extension": ".py",
   "mimetype": "text/x-python",
   "name": "python",
   "nbconvert_exporter": "python",
   "pygments_lexer": "ipython3",
   "version": "3.7.7"
  }
 },
 "nbformat": 4,
 "nbformat_minor": 1
}
